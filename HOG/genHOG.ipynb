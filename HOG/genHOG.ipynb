{
 "cells": [
  {
   "cell_type": "markdown",
   "id": "a074f81a",
   "metadata": {},
   "source": [
    "# Generate Hot Off Gas Background (511-keV gammas)"
   ]
  },
  {
   "cell_type": "code",
   "execution_count": 1,
   "id": "80668910",
   "metadata": {},
   "outputs": [],
   "source": [
    "import ROOT\n",
    "import numpy as np\n",
    "import pandas as pd\n",
    "import matplotlib.pyplot as plt\n",
    "from array import array"
   ]
  },
  {
   "cell_type": "code",
   "execution_count": 2,
   "id": "349ae7b4",
   "metadata": {},
   "outputs": [],
   "source": [
    "gPdg = 22\n",
    "# unit: MeV\n",
    "gMass = 0\n",
    "gEnergy = 0.511"
   ]
  },
  {
   "cell_type": "code",
   "execution_count": 3,
   "id": "ba971520",
   "metadata": {},
   "outputs": [
    {
     "data": {
      "text/plain": [
       "10"
      ]
     },
     "execution_count": 3,
     "metadata": {},
     "output_type": "execute_result"
    }
   ],
   "source": [
    "nEvents = 50000\n",
    "nGammaPerEvent = 73\n",
    "nEventPerFile = 5000\n",
    "nFiles = int(nEvents/nEventPerFile)\n",
    "nFiles"
   ]
  },
  {
   "cell_type": "code",
   "execution_count": 4,
   "id": "f5e45785",
   "metadata": {},
   "outputs": [],
   "source": [
    "outdir = '/Users/yuntse/data/coherent/preLArTPC/hog'"
   ]
  },
  {
   "cell_type": "code",
   "execution_count": 5,
   "id": "e7e21ec7",
   "metadata": {},
   "outputs": [
    {
     "name": "stdout",
     "output_type": "stream",
     "text": [
      "saving event 4999 in file 0....\n",
      "saving event 9999 in file 1....\n",
      "saving event 14999 in file 2....\n",
      "saving event 19999 in file 3....\n",
      "saving event 24999 in file 4....\n",
      "saving event 29999 in file 5....\n",
      "saving event 34999 in file 6....\n",
      "saving event 39999 in file 7....\n",
      "saving event 44999 in file 8....\n",
      "saving event 49999 in file 9....\n"
     ]
    }
   ],
   "source": [
    "iFile = 0\n",
    "\n",
    "for i in range(nEvents):\n",
    "    if i%nEventPerFile == 0:\n",
    "        iFile = int(i/nEventPerFile)\n",
    "        outFile = f'{outdir}/hog_{iFile:04d}.root'\n",
    "        \n",
    "        f = ROOT.TFile(outFile, \"RECREATE\")\n",
    "        t = ROOT.TTree(\"kin\", \"Hot-Off Gas\")\n",
    "        \n",
    "        # Declare the variables\n",
    "        event = array( 'i', [0] )\n",
    "        vpdg = ROOT.std.vector('int')()\n",
    "        vE   = ROOT.std.vector('double')()\n",
    "        vpx  = ROOT.std.vector('double')()\n",
    "        vpy  = ROOT.std.vector('double')()\n",
    "        vpz  = ROOT.std.vector('double')()\n",
    "        vm   = ROOT.std.vector('double')()\n",
    "\n",
    "        # Set the branches\n",
    "        t.Branch('event', event, 'event/I')\n",
    "        t.Branch('pdg', vpdg)\n",
    "        t.Branch('E', vE)\n",
    "        t.Branch('px', vpx)\n",
    "        t.Branch('py', vpy)\n",
    "        t.Branch('pz', vpz)\n",
    "        t.Branch('m', vm)\n",
    "\n",
    "    vpdg.clear()\n",
    "    vE.clear()\n",
    "    vpx.clear()\n",
    "    vpy.clear()\n",
    "    vpz.clear()\n",
    "    vm.clear()\n",
    "\n",
    "    event[0] = i\n",
    "    \n",
    "    for iGamma in range(nGammaPerEvent):\n",
    "    \n",
    "        # Calculate the 4-momentum\n",
    "        E = gEnergy\n",
    "        p = gEnergy\n",
    "        px = 0.\n",
    "        py = -gEnergy\n",
    "        pz = 0.\n",
    "    \n",
    "        vpdg.push_back( gPdg )\n",
    "        vE.push_back( E )\n",
    "        vpx.push_back( px )\n",
    "        vpy.push_back( py )\n",
    "        vpz.push_back( pz )\n",
    "        vm.push_back( gMass )\n",
    "    \n",
    "    t.Fill()\n",
    "    \n",
    "    if (i%nEventPerFile == nEventPerFile-1):\n",
    "        print( f'saving event {i} in file {iFile}....')\n",
    "        f.Write()\n",
    "        f.Close()"
   ]
  },
  {
   "cell_type": "code",
   "execution_count": null,
   "id": "94f56c04",
   "metadata": {},
   "outputs": [],
   "source": []
  }
 ],
 "metadata": {
  "kernelspec": {
   "display_name": "Python 3 (ipykernel)",
   "language": "python",
   "name": "python3"
  },
  "language_info": {
   "codemirror_mode": {
    "name": "ipython",
    "version": 3
   },
   "file_extension": ".py",
   "mimetype": "text/x-python",
   "name": "python",
   "nbconvert_exporter": "python",
   "pygments_lexer": "ipython3",
   "version": "3.11.5"
  }
 },
 "nbformat": 4,
 "nbformat_minor": 5
}
