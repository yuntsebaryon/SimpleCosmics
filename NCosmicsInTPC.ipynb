{
 "cells": [
  {
   "cell_type": "markdown",
   "id": "abb162a4",
   "metadata": {},
   "source": [
    "## How many cosmic muons traversing the TPC?"
   ]
  },
  {
   "cell_type": "code",
   "execution_count": 1,
   "id": "a4619dff",
   "metadata": {},
   "outputs": [],
   "source": [
    "import numpy as np\n",
    "import scipy.integrate as integrate\n",
    "import matplotlib.pyplot as plt"
   ]
  },
  {
   "cell_type": "markdown",
   "id": "9c89b6bf",
   "metadata": {},
   "source": [
    "How to get the vertical cosmic muon flux, $I_v$, see AnalyticCosmicSpectrum.ipynb.\n",
    "\n",
    "Then use $I(\\theta) = I_v\\cos^2\\theta$, regardless the momentum, to get the most conservative number of cosmic rays intersecting the TPC.\n",
    "\n",
    "The TPC dimension (x, y, z) = (50, 60, 60)cm, while z is the vertical coordinate downward for convenience - different from the coordinate system used in the other studies.  The 0 is at the center of the (x, y) plane but the top side of the TPC.  I.e. $x \\in [-25, 25]$, $y \\in [-30, 30]$, $z \\in [0, 60]$ cm."
   ]
  },
  {
   "cell_type": "code",
   "execution_count": 2,
   "id": "1c292c25",
   "metadata": {},
   "outputs": [],
   "source": [
    "# momentum range in GeV/c\n",
    "pmin = 3\n",
    "pmax = 100000"
   ]
  },
  {
   "cell_type": "code",
   "execution_count": 3,
   "id": "40071fbc",
   "metadata": {},
   "outputs": [],
   "source": [
    "# Analytical cosmic ray flux from the paper\n",
    "def dI_fixedTheta(p, theta):\n",
    "    return 18/(p*np.cos(theta)+145)* (1./np.power((p+2.7/np.cos(theta)), 2.7))* (p+5)/(p+5/np.cos(theta))"
   ]
  },
  {
   "cell_type": "code",
   "execution_count": 4,
   "id": "fb35a29a",
   "metadata": {},
   "outputs": [
    {
     "data": {
      "text/plain": [
       "(0.0035574258942180173, 1.0291962483084904e-08)"
      ]
     },
     "execution_count": 4,
     "metadata": {},
     "output_type": "execute_result"
    }
   ],
   "source": [
    "# 1-D integral\n",
    "theta = 0\n",
    "Iv = integrate.quad(dI_fixedTheta, pmin, pmax, args = (theta))\n",
    "Iv"
   ]
  },
  {
   "cell_type": "code",
   "execution_count": 2,
   "id": "29400556",
   "metadata": {},
   "outputs": [],
   "source": [
    "# Normalization factor of the probability density\n",
    "F = integrate.quad( lambda x: x**2, 0, 1)"
   ]
  },
  {
   "cell_type": "code",
   "execution_count": 3,
   "id": "1cdc6863",
   "metadata": {},
   "outputs": [],
   "source": [
    "# Cosine distribution, cos^2(theta)\n",
    "def x2(x):\n",
    "    return x**2/F[0]"
   ]
  },
  {
   "cell_type": "code",
   "execution_count": 4,
   "id": "85f3d2cb",
   "metadata": {},
   "outputs": [],
   "source": [
    "# CDF of the x^2 distribution\n",
    "def cdf(costh):\n",
    "    return (1.-costh**3)/(3*F[0])"
   ]
  },
  {
   "cell_type": "code",
   "execution_count": 5,
   "id": "bb96709f",
   "metadata": {},
   "outputs": [],
   "source": [
    "# Inverse CDF of x^2\n",
    "def inv_cdf(c):\n",
    "    return np.cbrt(1-3*c*F[0])"
   ]
  },
  {
   "cell_type": "code",
   "execution_count": 6,
   "id": "2cea6f58",
   "metadata": {},
   "outputs": [],
   "source": [
    "def findLineIntersectionPointWithPlane(p0, v, p1, n):\n",
    "    t = np.dot((p1-p0), n)/np.dot(v, n)\n",
    "    return p0 + v*t"
   ]
  },
  {
   "cell_type": "code",
   "execution_count": 7,
   "id": "e1bfb21b",
   "metadata": {},
   "outputs": [
    {
     "data": {
      "text/plain": [
       "array([  0., -30.,   0.])"
      ]
     },
     "execution_count": 7,
     "metadata": {},
     "output_type": "execute_result"
    }
   ],
   "source": [
    "# test\n",
    "p0 = np.array([0, -32, -2])\n",
    "v = np.array([0, 1, 1])\n",
    "p1 = np.array([0, -30, 0])\n",
    "n = np.array([0, -1, 0])\n",
    "x = findLineIntersectionPointWithPlane(p0, v, p1, n)\n",
    "x"
   ]
  },
  {
   "cell_type": "code",
   "execution_count": 8,
   "id": "545fc997",
   "metadata": {},
   "outputs": [],
   "source": [
    "# Unit: cm\n",
    "xHalf = 25.\n",
    "yHalf = 30.\n",
    "zFull = 60.\n",
    "# Define the planes corresponding to the 6 faces by a point and a normal vector\n",
    "p1s = np.array([[0., 0., 0.], [0., -yHalf,0.], [0., yHalf, 0.], [ -xHalf, 0., 0.], [xHalf, 0., 0.], [0., 0., zFull]])\n",
    "norms = np.array([[0., 0., -1,], [0., -1., 0.], [0., 1., 0.], [-1., 0., 0.], [1., 0., 0.], [0., 0., 1.]])\n",
    "# Define the borders of the 6 faces\n",
    "eps = 1e-6\n",
    "faces = np.array([[[-xHalf, xHalf], [-yHalf, yHalf], [-eps, eps]], \n",
    "                  [[-xHalf, xHalf], [-yHalf-eps, -yHalf+eps], [0., zFull]],\n",
    "                  [[-xHalf, xHalf], [yHalf-eps, yHalf+eps], [0., zFull]],\n",
    "                  [[-xHalf-eps, -xHalf+eps], [-yHalf, yHalf], [0., zFull]],\n",
    "                  [[xHalf-eps, xHalf+eps], [-yHalf, yHalf], [0., zFull]],\n",
    "                  [[-xHalf, xHalf], [-yHalf, yHalf], [zFull-eps, zFull+eps]]])"
   ]
  },
  {
   "cell_type": "code",
   "execution_count": 9,
   "id": "a9f134ff",
   "metadata": {},
   "outputs": [],
   "source": [
    "def findTraversing(x, face):\n",
    "    \n",
    "    if x[0] >= face[0][0] and x[0] <= face[0][1] and \\\n",
    "       x[1] >= face[1][0] and x[1] <= face[1][1] and \\\n",
    "       x[2] >= face[2][0] and x[2] <= face[2][1]:\n",
    "        return True\n",
    "    \n",
    "    return False"
   ]
  },
  {
   "cell_type": "code",
   "execution_count": 10,
   "id": "94953bc2",
   "metadata": {},
   "outputs": [
    {
     "data": {
      "text/plain": [
       "True"
      ]
     },
     "execution_count": 10,
     "metadata": {},
     "output_type": "execute_result"
    }
   ],
   "source": [
    "# Test\n",
    "findTraversing(np.array([-24, -30, 2]), faces[1])"
   ]
  },
  {
   "cell_type": "code",
   "execution_count": 11,
   "id": "24c6ddd3",
   "metadata": {},
   "outputs": [],
   "source": [
    "def genSolidAngle(nSamples):\n",
    "    uniformCosth = np.random.default_rng().uniform(0, 1, nSamples)\n",
    "    SolidAngle = np.array([\n",
    "        [costh, phi]\n",
    "        for costh, phi in zip(inv_cdf(uniformCosth), np.random.default_rng().uniform(0, 2*np.pi, nSamples))])\n",
    "    return SolidAngle"
   ]
  },
  {
   "cell_type": "code",
   "execution_count": 12,
   "id": "dfa50122",
   "metadata": {},
   "outputs": [],
   "source": [
    "def getSinFromCos(costh):\n",
    "    return np.sqrt(1 - costh**2)"
   ]
  },
  {
   "cell_type": "code",
   "execution_count": 13,
   "id": "e85c7b43",
   "metadata": {},
   "outputs": [],
   "source": [
    "# Unit: cm\n",
    "# Define where to sample the cosmic muon flux\n",
    "zPosition = -800\n",
    "# zPosition = -10\n",
    "nSolidAngles = 10000"
   ]
  },
  {
   "cell_type": "code",
   "execution_count": 14,
   "id": "b45a7939",
   "metadata": {},
   "outputs": [],
   "source": [
    "def genXYPosition(xyBound, zPosition, nSteps):\n",
    "    iStep = np.linspace(0, xyBound, nSteps+1)\n",
    "    XPosYMin = np.array([[x, -xyBound, zPosition] for x in iStep ])\n",
    "    XNegYMin = np.array([[x, -xyBound, zPosition] for x in -iStep])\n",
    "    XPosYMax = np.array([[x, xyBound, zPosition]  for x in iStep ])\n",
    "    XNegYMax = np.array([[x, xyBound, zPosition]  for x in -iStep])\n",
    "    XMinYPos = np.array([[-xyBound, y, zPosition] for y in iStep ])\n",
    "    XMinYNeg = np.array([[-xyBound, y, zPosition] for y in -iStep])\n",
    "    XMaxYPos = np.array([[xyBound, y, zPosition]  for y in iStep ])\n",
    "    XMaxYNeg = np.array([[xyBound, y, zPosition]  for y in -iStep])\n",
    "    XYPosition = np.concatenate(( XPosYMin, XNegYMin, XPosYMax, XNegYMin, XMinYPos, XMinYNeg, XMaxYPos, XMaxYNeg))\n",
    "    unique_check = np.unique(XYPosition, axis = 1)\n",
    "    if len(XYPosition) != len(unique_check):\n",
    "        print(f'{len(unique_check)} unique positions out of {len(XYPosition)} positions!')\n",
    "    # print(f'{nXYPositions} points of cosmic rays being checked')\n",
    "    \n",
    "    return XYPosition"
   ]
  },
  {
   "cell_type": "code",
   "execution_count": null,
   "id": "ab947b79",
   "metadata": {},
   "outputs": [],
   "source": [
    "# xyBounds = np.array([10., 20., 30., 40., 50., 100., 500., 1000., 5000. ])\n",
    "# xyBounds = np.array([10., 100., 500.])\n",
    "# xyBounds = np.array([7500., 10000,])\n",
    "xyBounds = np.array([6000., 6500., 7000.])\n",
    "nBounds = len(xyBounds)\n",
    "nTraverse = np.zeros(nBounds)\n",
    "nCounter = np.zeros(nBounds)\n",
    "\n",
    "for ixyBound in range(nBounds):\n",
    "    \n",
    "    xyBound = xyBounds[ixyBound]\n",
    "    XYPosition = genXYPosition(xyBound, zPosition, round(xyBound))\n",
    "\n",
    "    for p0 in XYPosition:\n",
    "        \n",
    "        SolidAngles = genSolidAngle(nSolidAngles)\n",
    "    \n",
    "        for costh, phi in SolidAngles:\n",
    "    \n",
    "            # print(f'Cosmic ray {nCounter}')\n",
    "    \n",
    "            sinth = getSinFromCos(costh)\n",
    "            v = np.array([sinth*np.cos(phi), sinth*np.sin(phi), costh])\n",
    "            # print(f'v = {v}')\n",
    "    \n",
    "            for p1, norm, face in zip(p1s, norms, faces):\n",
    "                x = findLineIntersectionPointWithPlane(p0, v, p1, norm)\n",
    "                # print(f'x = {x}')\n",
    "                doTraverse = findTraversing(x, face)\n",
    "                if (doTraverse):\n",
    "                    # print(f'It traverses! v = ({v})')\n",
    "                    nTraverse[ixyBound] += 1\n",
    "                    break\n",
    "\n",
    "            nCounter[ixyBound] += 1\n",
    "\n",
    "    # print(f'At {p0}, {nTraverse[index]} cosmic rays traversing the TPC out of {nCounter[index]}')"
   ]
  },
  {
   "cell_type": "code",
   "execution_count": 16,
   "id": "847f605f",
   "metadata": {},
   "outputs": [
    {
     "data": {
      "text/plain": [
       "array([172.,  74.])"
      ]
     },
     "execution_count": 16,
     "metadata": {},
     "output_type": "execute_result"
    }
   ],
   "source": [
    "nTraverse"
   ]
  },
  {
   "cell_type": "code",
   "execution_count": 17,
   "id": "4e72f310",
   "metadata": {},
   "outputs": [
    {
     "data": {
      "text/plain": [
       "array([6.0008e+08, 8.0008e+08])"
      ]
     },
     "execution_count": 17,
     "metadata": {},
     "output_type": "execute_result"
    }
   ],
   "source": [
    "nCounter"
   ]
  },
  {
   "cell_type": "code",
   "execution_count": 18,
   "id": "8c6410c9",
   "metadata": {},
   "outputs": [
    {
     "data": {
      "text/plain": [
       "array([2.86628450e-07, 9.24907509e-08])"
      ]
     },
     "execution_count": 18,
     "metadata": {},
     "output_type": "execute_result"
    }
   ],
   "source": [
    "r = np.array([ float(t)/float(c) for t, c in zip(nTraverse, nCounter)])\n",
    "r"
   ]
  },
  {
   "cell_type": "code",
   "execution_count": 21,
   "id": "a2471f92",
   "metadata": {},
   "outputs": [
    {
     "data": {
      "text/plain": [
       "0.9481397727272727"
      ]
     },
     "execution_count": 21,
     "metadata": {},
     "output_type": "execute_result"
    }
   ],
   "source": [
    "834363/880000"
   ]
  },
  {
   "cell_type": "code",
   "execution_count": 19,
   "id": "f1405209",
   "metadata": {},
   "outputs": [
    {
     "data": {
      "text/plain": [
       "array([[7.50000000e+03, 1.72000000e+02, 6.00080000e+08, 2.86628450e-07],\n",
       "       [1.00000000e+04, 7.40000000e+01, 8.00080000e+08, 9.24907509e-08]])"
      ]
     },
     "execution_count": 19,
     "metadata": {},
     "output_type": "execute_result"
    }
   ],
   "source": [
    "result = np.array([ [xyBound, nT, nC, r] for xyBound, nT, nC, r in zip(xyBounds, nTraverse, nCounter, r)])\n",
    "result"
   ]
  },
  {
   "cell_type": "code",
   "execution_count": 20,
   "id": "d91690c0",
   "metadata": {},
   "outputs": [],
   "source": [
    "with open('nCosmicsInTPC2.npy', 'wb') as f:\n",
    "    np.save(f, result)"
   ]
  },
  {
   "cell_type": "code",
   "execution_count": null,
   "id": "73ac4ea3",
   "metadata": {},
   "outputs": [],
   "source": []
  }
 ],
 "metadata": {
  "kernelspec": {
   "display_name": "Python 3 (ipykernel)",
   "language": "python",
   "name": "python3"
  },
  "language_info": {
   "codemirror_mode": {
    "name": "ipython",
    "version": 3
   },
   "file_extension": ".py",
   "mimetype": "text/x-python",
   "name": "python",
   "nbconvert_exporter": "python",
   "pygments_lexer": "ipython3",
   "version": "3.11.5"
  }
 },
 "nbformat": 4,
 "nbformat_minor": 5
}
