{
 "cells": [
  {
   "cell_type": "markdown",
   "id": "abb162a4",
   "metadata": {},
   "source": [
    "## How many cosmic muons traversing the TPC?"
   ]
  },
  {
   "cell_type": "code",
   "execution_count": 1,
   "id": "ab8d82da",
   "metadata": {},
   "outputs": [],
   "source": [
    "import numpy as np\n",
    "import scipy.integrate as integrate\n",
    "import matplotlib.pyplot as plt"
   ]
  },
  {
   "cell_type": "markdown",
   "id": "a50b1c48",
   "metadata": {},
   "source": [
    "How to get the vertical cosmic muon flux, $I_v$, see AnalyticCosmicSpectrum.ipynb.\n",
    "\n",
    "Then use $I(\\theta) = I_v\\cos^2\\theta$, regardless the momentum, to get the most conservative number of cosmic rays intersecting the TPC.\n",
    "\n",
    "The TPC dimension (x, y, z) = (50, 60, 60)cm, while z is the vertical coordinate downward for convenience - different from the coordinate system used in the other studies.  The 0 is at the center of the (x, y) plane but the top side of the TPC.  I.e. $x \\in [-25, 25]$, $y \\in [-30, 30]$, $z \\in [0, 60]$ cm."
   ]
  },
  {
   "cell_type": "code",
   "execution_count": 2,
   "id": "67a44c6b",
   "metadata": {},
   "outputs": [],
   "source": [
    "# momentum range in GeV/c\n",
    "pmin = 3\n",
    "pmax = 100000"
   ]
  },
  {
   "cell_type": "code",
   "execution_count": 3,
   "id": "7b561df0",
   "metadata": {},
   "outputs": [],
   "source": [
    "# Analytical cosmic ray flux from the paper\n",
    "def dI_fixedTheta(p, theta):\n",
    "    return 18/(p*np.cos(theta)+145)* (1./np.power((p+2.7/np.cos(theta)), 2.7))* (p+5)/(p+5/np.cos(theta))"
   ]
  },
  {
   "cell_type": "code",
   "execution_count": 4,
   "id": "cc9dd22b",
   "metadata": {},
   "outputs": [
    {
     "data": {
      "text/plain": [
       "(0.0035574258942180173, 1.0291962483084904e-08)"
      ]
     },
     "execution_count": 4,
     "metadata": {},
     "output_type": "execute_result"
    }
   ],
   "source": [
    "# 1-D integral\n",
    "theta = 0\n",
    "Iv = integrate.quad(dI_fixedTheta, pmin, pmax, args = (theta))\n",
    "Iv"
   ]
  },
  {
   "cell_type": "code",
   "execution_count": 2,
   "id": "7aeeb288",
   "metadata": {},
   "outputs": [],
   "source": [
    "# Normalization factor of the probability density\n",
    "F = integrate.quad( lambda x: x**2, 0, 1)"
   ]
  },
  {
   "cell_type": "code",
   "execution_count": 3,
   "id": "97894f60",
   "metadata": {},
   "outputs": [],
   "source": [
    "# Cosine distribution, cos^2(theta)\n",
    "def x2(x):\n",
    "    return x**2/F[0]"
   ]
  },
  {
   "cell_type": "code",
   "execution_count": 4,
   "id": "b85f3fb0",
   "metadata": {},
   "outputs": [],
   "source": [
    "# CDF of the x^2 distribution\n",
    "def cdf(costh):\n",
    "    return (1.-costh**3)/(3*F[0])"
   ]
  },
  {
   "cell_type": "code",
   "execution_count": 5,
   "id": "75007be6",
   "metadata": {},
   "outputs": [],
   "source": [
    "# Inverse CDF of x^2\n",
    "def inv_cdf(c):\n",
    "    return np.cbrt(1-3*c*F[0])"
   ]
  },
  {
   "cell_type": "code",
   "execution_count": 6,
   "id": "eb1ebea9",
   "metadata": {},
   "outputs": [],
   "source": [
    "def findLineIntersectionPointWithPlane(p0, v, p1, n):\n",
    "    t = np.dot((p1-p0), n)/np.dot(v, n)\n",
    "    return p0 + v*t"
   ]
  },
  {
   "cell_type": "code",
   "execution_count": 7,
   "id": "72e7319a",
   "metadata": {},
   "outputs": [
    {
     "data": {
      "text/plain": [
       "array([  0., -30.,   0.])"
      ]
     },
     "execution_count": 7,
     "metadata": {},
     "output_type": "execute_result"
    }
   ],
   "source": [
    "# test\n",
    "p0 = np.array([0, -32, -2])\n",
    "v = np.array([0, 1, 1])\n",
    "p1 = np.array([0, -30, 0])\n",
    "n = np.array([0, -1, 0])\n",
    "x = findLineIntersectionPointWithPlane(p0, v, p1, n)\n",
    "x"
   ]
  },
  {
   "cell_type": "code",
   "execution_count": 8,
   "id": "a4bf1979",
   "metadata": {},
   "outputs": [],
   "source": [
    "# Unit: cm\n",
    "xHalf = 25.\n",
    "yHalf = 30.\n",
    "zFull = 60.\n",
    "# Define the planes corresponding to the 6 faces by a point and a normal vector\n",
    "p1s = np.array([[0., 0., 0.], [0., -yHalf,0.], [0., yHalf, 0.], [ -xHalf, 0., 0.], [xHalf, 0., 0.], [0., 0., zFull]])\n",
    "norms = np.array([[0., 0., -1,], [0., -1., 0.], [0., 1., 0.], [-1., 0., 0.], [1., 0., 0.], [0., 0., 1.]])\n",
    "# Define the borders of the 6 faces\n",
    "eps = 1e-6\n",
    "faces = np.array([[[-xHalf, xHalf], [-yHalf, yHalf], [-eps, eps]], \n",
    "                  [[-xHalf, xHalf], [-yHalf-eps, -yHalf+eps], [0., zFull]],\n",
    "                  [[-xHalf, xHalf], [yHalf-eps, yHalf+eps], [0., zFull]],\n",
    "                  [[-xHalf-eps, -xHalf+eps], [-yHalf, yHalf], [0., zFull]],\n",
    "                  [[xHalf-eps, xHalf+eps], [-yHalf, yHalf], [0., zFull]],\n",
    "                  [[-xHalf, xHalf], [-yHalf, yHalf], [zFull-eps, zFull+eps]]])"
   ]
  },
  {
   "cell_type": "code",
   "execution_count": 9,
   "id": "d1d9ea75",
   "metadata": {},
   "outputs": [],
   "source": [
    "def findTraversing(x, face):\n",
    "    \n",
    "    if x[0] >= face[0][0] and x[0] <= face[0][1] and \\\n",
    "       x[1] >= face[1][0] and x[1] <= face[1][1] and \\\n",
    "       x[2] >= face[2][0] and x[2] <= face[2][1]:\n",
    "        return True\n",
    "    \n",
    "    return False"
   ]
  },
  {
   "cell_type": "code",
   "execution_count": 10,
   "id": "03cf3abb",
   "metadata": {},
   "outputs": [
    {
     "data": {
      "text/plain": [
       "True"
      ]
     },
     "execution_count": 10,
     "metadata": {},
     "output_type": "execute_result"
    }
   ],
   "source": [
    "# Test\n",
    "findTraversing(np.array([-24, -30, 2]), faces[1])"
   ]
  },
  {
   "cell_type": "code",
   "execution_count": 11,
   "id": "7ef390cc",
   "metadata": {},
   "outputs": [],
   "source": [
    "def genSolidAngle(nSamples):\n",
    "    uniformCosth = np.random.default_rng().uniform(0, 1, nSamples)\n",
    "    SolidAngle = np.array([\n",
    "        [costh, phi]\n",
    "        for costh, phi in zip(inv_cdf(uniformCosth), np.random.default_rng().uniform(0, 2*np.pi, nSamples))])\n",
    "    return SolidAngle"
   ]
  },
  {
   "cell_type": "code",
   "execution_count": 12,
   "id": "d091f7bc",
   "metadata": {},
   "outputs": [],
   "source": [
    "def getSinFromCos(costh):\n",
    "    return np.sqrt(1 - costh**2)"
   ]
  },
  {
   "cell_type": "code",
   "execution_count": 13,
   "id": "38755095",
   "metadata": {},
   "outputs": [],
   "source": [
    "# Unit: cm\n",
    "# Define where to sample the cosmic muon flux\n",
    "zPosition = -800\n",
    "# zPosition = -10\n",
    "nSolidAngles = 10000"
   ]
  },
  {
   "cell_type": "code",
   "execution_count": 14,
   "id": "178e9a09",
   "metadata": {},
   "outputs": [],
   "source": [
    "def genXYPosition(xyBound, zPosition, nSteps):\n",
    "    iStep = np.linspace(0, xyBound, nSteps+1)\n",
    "    XPosYMin = np.array([[x, -xyBound, zPosition] for x in iStep ])\n",
    "    XNegYMin = np.array([[x, -xyBound, zPosition] for x in -iStep])\n",
    "    XPosYMax = np.array([[x, xyBound, zPosition]  for x in iStep ])\n",
    "    XNegYMax = np.array([[x, xyBound, zPosition]  for x in -iStep])\n",
    "    XMinYPos = np.array([[-xyBound, y, zPosition] for y in iStep ])\n",
    "    XMinYNeg = np.array([[-xyBound, y, zPosition] for y in -iStep])\n",
    "    XMaxYPos = np.array([[xyBound, y, zPosition]  for y in iStep ])\n",
    "    XMaxYNeg = np.array([[xyBound, y, zPosition]  for y in -iStep])\n",
    "    XYPosition = np.concatenate(( XPosYMin, XNegYMin, XPosYMax, XNegYMin, XMinYPos, XMinYNeg, XMaxYPos, XMaxYNeg))\n",
    "    unique_check = np.unique(XYPosition, axis = 1)\n",
    "    if len(XYPosition) != len(unique_check):\n",
    "        print(f'{len(unique_check)} unique positions out of {len(XYPosition)} positions!')\n",
    "    # print(f'{nXYPositions} points of cosmic rays being checked')\n",
    "    \n",
    "    return XYPosition"
   ]
  },
  {
   "cell_type": "code",
   "execution_count": 15,
   "id": "d967cc86",
   "metadata": {},
   "outputs": [],
   "source": [
    "# xyBounds = np.array([10., 20., 30., 40., 50., 100., 500., 1000., 5000. ])\n",
    "# xyBounds = np.array([10., 100., 500.])\n",
    "# xyBounds = np.array([7500., 10000,])\n",
    "xyBounds = np.array([6000., 6500., 7000.])\n",
    "nBounds = len(xyBounds)\n",
    "nTraverse = np.zeros(nBounds)\n",
    "nCounter = np.zeros(nBounds)\n",
    "\n",
    "for ixyBound in range(nBounds):\n",
    "    \n",
    "    xyBound = xyBounds[ixyBound]\n",
    "    XYPosition = genXYPosition(xyBound, zPosition, round(xyBound))\n",
    "\n",
    "    for p0 in XYPosition:\n",
    "        \n",
    "        SolidAngles = genSolidAngle(nSolidAngles)\n",
    "    \n",
    "        for costh, phi in SolidAngles:\n",
    "    \n",
    "            # print(f'Cosmic ray {nCounter}')\n",
    "    \n",
    "            sinth = getSinFromCos(costh)\n",
    "            v = np.array([sinth*np.cos(phi), sinth*np.sin(phi), costh])\n",
    "            # print(f'v = {v}')\n",
    "    \n",
    "            for p1, norm, face in zip(p1s, norms, faces):\n",
    "                x = findLineIntersectionPointWithPlane(p0, v, p1, norm)\n",
    "                # print(f'x = {x}')\n",
    "                doTraverse = findTraversing(x, face)\n",
    "                if (doTraverse):\n",
    "                    # print(f'It traverses! v = ({v})')\n",
    "                    nTraverse[ixyBound] += 1\n",
    "                    break\n",
    "\n",
    "            nCounter[ixyBound] += 1\n",
    "\n",
    "    # print(f'At {p0}, {nTraverse[index]} cosmic rays traversing the TPC out of {nCounter[index]}')"
   ]
  },
  {
   "cell_type": "code",
   "execution_count": 16,
   "id": "432e6f80",
   "metadata": {},
   "outputs": [
    {
     "data": {
      "text/plain": [
       "array([336., 248., 212.])"
      ]
     },
     "execution_count": 16,
     "metadata": {},
     "output_type": "execute_result"
    }
   ],
   "source": [
    "nTraverse"
   ]
  },
  {
   "cell_type": "code",
   "execution_count": 17,
   "id": "2223244c",
   "metadata": {},
   "outputs": [
    {
     "data": {
      "text/plain": [
       "array([4.8008e+08, 5.2008e+08, 5.6008e+08])"
      ]
     },
     "execution_count": 17,
     "metadata": {},
     "output_type": "execute_result"
    }
   ],
   "source": [
    "nCounter"
   ]
  },
  {
   "cell_type": "code",
   "execution_count": 18,
   "id": "9e3e59f6",
   "metadata": {},
   "outputs": [
    {
     "data": {
      "text/plain": [
       "array([6.99883353e-07, 4.76849715e-07, 3.78517355e-07])"
      ]
     },
     "execution_count": 18,
     "metadata": {},
     "output_type": "execute_result"
    }
   ],
   "source": [
    "r = np.array([ float(t)/float(c) for t, c in zip(nTraverse, nCounter)])\n",
    "r"
   ]
  },
  {
   "cell_type": "code",
   "execution_count": 19,
   "id": "aa77a07b",
   "metadata": {},
   "outputs": [
    {
     "data": {
      "text/plain": [
       "array([[6.00000000e+03, 3.36000000e+02, 4.80080000e+08, 6.99883353e-07],\n",
       "       [6.50000000e+03, 2.48000000e+02, 5.20080000e+08, 4.76849715e-07],\n",
       "       [7.00000000e+03, 2.12000000e+02, 5.60080000e+08, 3.78517355e-07]])"
      ]
     },
     "execution_count": 19,
     "metadata": {},
     "output_type": "execute_result"
    }
   ],
   "source": [
    "result = np.array([ [xyBound, nT, nC, r] for xyBound, nT, nC, r in zip(xyBounds, nTraverse, nCounter, r)])\n",
    "result"
   ]
  },
  {
   "cell_type": "code",
   "execution_count": 20,
   "id": "a7d29f29",
   "metadata": {},
   "outputs": [],
   "source": [
    "with open('nCosmicsInTPC4.npy', 'wb') as f:\n",
    "    np.save(f, result)"
   ]
  },
  {
   "cell_type": "code",
   "execution_count": 2,
   "id": "2cc7631b",
   "metadata": {},
   "outputs": [
    {
     "data": {
      "text/plain": [
       "array([[1.00000000e+01, 2.08300000e+03, 8.80000000e+05, 2.36704545e-03],\n",
       "       [2.00000000e+01, 3.67100000e+03, 1.68000000e+06, 2.18511905e-03],\n",
       "       [3.00000000e+01, 5.47400000e+03, 2.48000000e+06, 2.20725806e-03],\n",
       "       [4.00000000e+01, 7.57400000e+03, 3.28000000e+06, 2.30914634e-03],\n",
       "       [5.00000000e+01, 9.42100000e+03, 4.08000000e+06, 2.30906863e-03],\n",
       "       [1.00000000e+02, 1.92060000e+04, 8.08000000e+06, 2.37698020e-03],\n",
       "       [5.00000000e+02, 6.22200000e+04, 4.00800000e+07, 1.55239521e-03],\n",
       "       [1.00000000e+03, 3.52040000e+04, 8.00800000e+07, 4.39610390e-04],\n",
       "       [2.00000000e+03, 8.11300000e+03, 1.60080000e+08, 5.06809095e-05],\n",
       "       [3.00000000e+03, 2.59200000e+03, 2.40080000e+08, 1.07964012e-05],\n",
       "       [4.00000000e+03, 1.15100000e+03, 3.20080000e+08, 3.59597601e-06],\n",
       "       [5.00000000e+03, 5.95000000e+02, 4.00080000e+08, 1.48720256e-06],\n",
       "       [6.00000000e+03, 3.36000000e+02, 4.80080000e+08, 6.99883353e-07],\n",
       "       [6.50000000e+03, 2.48000000e+02, 5.20080000e+08, 4.76849715e-07],\n",
       "       [7.00000000e+03, 2.12000000e+02, 5.60080000e+08, 3.78517355e-07],\n",
       "       [7.50000000e+03, 1.85000000e+02, 6.00080000e+08, 3.08292228e-07],\n",
       "       [8.00000000e+03, 1.52000000e+02, 6.40080000e+08, 2.37470316e-07],\n",
       "       [9.00000000e+03, 1.21000000e+02, 7.20080000e+08, 1.68036885e-07],\n",
       "       [1.00000000e+04, 7.10000000e+01, 8.00080000e+08, 8.87411259e-08]])"
      ]
     },
     "execution_count": 2,
     "metadata": {},
     "output_type": "execute_result"
    }
   ],
   "source": [
    "a = np.load('nCosmicsInTPC.npy')\n",
    "a"
   ]
  },
  {
   "cell_type": "code",
   "execution_count": 3,
   "id": "2c580d04",
   "metadata": {},
   "outputs": [
    {
     "data": {
      "text/plain": [
       "array([   10.,    20.,    30.,    40.,    50.,   100.,   500.,  1000.,\n",
       "        2000.,  3000.,  4000.,  5000.,  6000.,  6500.,  7000.,  7500.,\n",
       "        8000.,  9000., 10000.])"
      ]
     },
     "execution_count": 3,
     "metadata": {},
     "output_type": "execute_result"
    }
   ],
   "source": [
    "a[:,0]"
   ]
  },
  {
   "cell_type": "code",
   "execution_count": 4,
   "id": "2a02740d",
   "metadata": {},
   "outputs": [
    {
     "data": {
      "image/png": "[encoded data removed]",
      "text/plain": [
       "<Figure size 800x600 with 1 Axes>"
      ]
     },
     "metadata": {},
     "output_type": "display_data"
    }
   ],
   "source": [
    "fig, ax = plt.subplots( figsize = (8, 6) )  \n",
    "\n",
    "ax.plot(a[:,0]*2, a[:,3], lw = 2 )\n",
    "\n",
    "ax.set_xlabel( r'Border Length Simulated for Cosmic Muons [cm]', fontsize = 16 )\n",
    "ax.set_ylabel( r'Ratio to Traverse the TPC', fontsize = 16 )\n",
    "ax.tick_params(axis = 'x', labelsize = 16)\n",
    "ax.tick_params(axis = 'y', labelsize = 16)\n",
    "\n",
    "ax.set_xscale('log')\n",
    "ax.set_yscale('log')\n",
    "ax.set_xlim( [20, 20000])\n",
    "# ax.set_ylim( [0, 1.1])\n",
    "\n",
    "ax.grid(\":\")\n",
    "# ax.legend( fontsize = 16 )\n",
    "fig.savefig('RatioCosmicTraverse.pdf')"
   ]
  },
  {
   "cell_type": "code",
   "execution_count": 5,
   "id": "a8def243",
   "metadata": {},
   "outputs": [],
   "source": [
    "# Cosmic ray measured by MicroBooNE: 112Hz/m^2/s\n",
    "CR = 113\n",
    "# Event length: 200µs\n",
    "drift_time = 2*1e-4"
   ]
  },
  {
   "cell_type": "code",
   "execution_count": 6,
   "id": "140b00ce",
   "metadata": {},
   "outputs": [
    {
     "data": {
      "text/plain": [
       "325.44"
      ]
     },
     "execution_count": 6,
     "metadata": {},
     "output_type": "execute_result"
    }
   ],
   "source": [
    "# Generate 120mx120m area, with the cosmic ray rate 112 Hz/m^2\n",
    "# CR*120**2\n",
    "CR*(120**2)*2*1e-4"
   ]
  },
  {
   "cell_type": "code",
   "execution_count": 7,
   "id": "fbcf1556",
   "metadata": {},
   "outputs": [
    {
     "data": {
      "text/plain": [
       "array([2.36704545e-03, 2.18511905e-03, 2.20725806e-03, 2.30914634e-03,\n",
       "       2.30906863e-03, 2.37698020e-03, 1.55239521e-03, 4.39610390e-04,\n",
       "       5.06809095e-05, 1.07964012e-05, 3.59597601e-06, 1.48720256e-06,\n",
       "       6.99883353e-07, 4.76849715e-07, 3.78517355e-07, 3.08292228e-07,\n",
       "       2.37470316e-07, 1.68036885e-07, 8.87411259e-08])"
      ]
     },
     "execution_count": 7,
     "metadata": {},
     "output_type": "execute_result"
    }
   ],
   "source": [
    "a[:,3]"
   ]
  },
  {
   "cell_type": "code",
   "execution_count": 8,
   "id": "6598f3d8",
   "metadata": {},
   "outputs": [],
   "source": [
    "ExpCR = CR*(((a[:,0]*2)/100)**2)*drift_time"
   ]
  },
  {
   "cell_type": "code",
   "execution_count": 9,
   "id": "960bd686",
   "metadata": {},
   "outputs": [
    {
     "data": {
      "text/plain": [
       "array([9.0400e-04, 3.6160e-03, 8.1360e-03, 1.4464e-02, 2.2600e-02,\n",
       "       9.0400e-02, 2.2600e+00, 9.0400e+00, 3.6160e+01, 8.1360e+01,\n",
       "       1.4464e+02, 2.2600e+02, 3.2544e+02, 3.8194e+02, 4.4296e+02,\n",
       "       5.0850e+02, 5.7856e+02, 7.3224e+02, 9.0400e+02])"
      ]
     },
     "execution_count": 9,
     "metadata": {},
     "output_type": "execute_result"
    }
   ],
   "source": [
    "ExpCR"
   ]
  },
  {
   "cell_type": "code",
   "execution_count": 10,
   "id": "490a177c",
   "metadata": {},
   "outputs": [
    {
     "data": {
      "text/plain": [
       "array([   20.,    40.,    60.,    80.,   100.,   200.,  1000.,  2000.,\n",
       "        4000.,  6000.,  8000., 10000., 12000., 13000., 14000., 15000.,\n",
       "       16000., 18000., 20000.])"
      ]
     },
     "execution_count": 10,
     "metadata": {},
     "output_type": "execute_result"
    }
   ],
   "source": [
    "a[:,0]*2"
   ]
  },
  {
   "cell_type": "code",
   "execution_count": 11,
   "id": "7379b17e",
   "metadata": {},
   "outputs": [
    {
     "data": {
      "image/png": "[encoded data removed]",
      "text/plain": [
       "<Figure size 800x600 with 1 Axes>"
      ]
     },
     "metadata": {},
     "output_type": "display_data"
    }
   ],
   "source": [
    "fig, ax = plt.subplots( figsize = (8, 6) )  \n",
    "\n",
    "ax.plot(a[:,0]*2, ExpCR, lw = 2 )\n",
    "\n",
    "ax.set_xlabel( r'Border Length Simulated for Cosmic Muons [cm]', fontsize = 16 )\n",
    "ax.set_ylabel( r'Cosmic Muons to be Generated per Event', fontsize = 16 )\n",
    "ax.tick_params(axis = 'x', labelsize = 16)\n",
    "ax.tick_params(axis = 'y', labelsize = 16)\n",
    "\n",
    "ax.set_xscale('log')\n",
    "ax.set_yscale('log')\n",
    "ax.set_xlim( [20, 20000])\n",
    "\n",
    "ax.grid(\":\")"
   ]
  },
  {
   "cell_type": "code",
   "execution_count": 12,
   "id": "c7b186db",
   "metadata": {},
   "outputs": [
    {
     "data": {
      "text/plain": [
       "36.160000000000004"
      ]
     },
     "execution_count": 12,
     "metadata": {},
     "output_type": "execute_result"
    }
   ],
   "source": [
    "ExpCR[8]"
   ]
  },
  {
   "cell_type": "markdown",
   "id": "065f6302",
   "metadata": {},
   "source": [
    "### Conclusion\n",
    "\n",
    "Generate 40mx40m (corresponding to 20m in the npy file, since in the npy file it is the half border), totally 36 cosmic muons in an event (200µs)."
   ]
  },
  {
   "cell_type": "code",
   "execution_count": 14,
   "id": "09f38418",
   "metadata": {},
   "outputs": [
    {
     "data": {
      "text/plain": [
       "46863360000.000015"
      ]
     },
     "execution_count": 14,
     "metadata": {},
     "output_type": "execute_result"
    }
   ],
   "source": [
    "# How many cosmic rays in 3 years of beam events?\n",
    "# 60Hz, 5000 hours/year\n",
    "ExpCR[8]*60*60*24*5000*3"
   ]
  },
  {
   "cell_type": "code",
   "execution_count": null,
   "id": "194a9adc",
   "metadata": {},
   "outputs": [],
   "source": []
  }
 ],
 "metadata": {
  "kernelspec": {
   "display_name": "Python 3 (ipykernel)",
   "language": "python",
   "name": "python3"
  },
  "language_info": {
   "codemirror_mode": {
    "name": "ipython",
    "version": 3
   },
   "file_extension": ".py",
   "mimetype": "text/x-python",
   "name": "python",
   "nbconvert_exporter": "python",
   "pygments_lexer": "ipython3",
   "version": "3.11.5"
  }
 },
 "nbformat": 4,
 "nbformat_minor": 5
}
