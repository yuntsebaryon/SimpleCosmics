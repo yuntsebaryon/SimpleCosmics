{
 "cells": [
  {
   "cell_type": "markdown",
   "id": "e5bdd3dd",
   "metadata": {},
   "source": [
    "# Generate Beam-Related Neutron (BRN)"
   ]
  },
  {
   "cell_type": "code",
   "execution_count": 1,
   "id": "ff7ae1e5",
   "metadata": {},
   "outputs": [],
   "source": [
    "import ROOT\n",
    "import numpy as np\n",
    "import pandas as pd\n",
    "import matplotlib.pyplot as plt"
   ]
  },
  {
   "cell_type": "markdown",
   "id": "6a272c08",
   "metadata": {},
   "source": [
    "## Load the BRN spectrum"
   ]
  },
  {
   "cell_type": "code",
   "execution_count": 2,
   "id": "08c4fb44",
   "metadata": {},
   "outputs": [],
   "source": [
    "filename = '/Users/yuntse/data/coherent/preLArTPC/mcnp/BRN_400M_100cm_1e5.root'\n",
    "f = ROOT.TFile( filename, 'READ')"
   ]
  },
  {
   "cell_type": "code",
   "execution_count": 3,
   "id": "6ac71457",
   "metadata": {},
   "outputs": [],
   "source": [
    "hBRN = f.Get(\"1\")"
   ]
  },
  {
   "cell_type": "code",
   "execution_count": 4,
   "id": "15395bee",
   "metadata": {},
   "outputs": [
    {
     "data": {
      "image/png": "[encoded data removed]",
      "text/plain": [
       "<IPython.core.display.Image object>"
      ]
     },
     "metadata": {},
     "output_type": "display_data"
    }
   ],
   "source": [
    "canvas = ROOT.TCanvas(\"c1\", \"BRN KE\")\n",
    "hBRN.Draw()\n",
    "canvas.Draw()"
   ]
  },
  {
   "cell_type": "code",
   "execution_count": 5,
   "id": "a3aa5ff7",
   "metadata": {},
   "outputs": [],
   "source": [
    "brn = np.array([ hBRN.GetBinContent(i+1) for i in range(hBRN.GetNbinsX()) ])\n",
    "brn_bins = np.array([ hBRN.GetBinLowEdge(i+1) for i in range(hBRN.GetNbinsX() + 1) ])"
   ]
  },
  {
   "cell_type": "code",
   "execution_count": 6,
   "id": "afbb1c05",
   "metadata": {},
   "outputs": [
    {
     "data": {
      "text/plain": [
       "array([19716.,  2688.,  2803.,  1351.,  1160.,   868.,   767.,   552.,\n",
       "         489.,   445.,   356.,   330.,   275.,   255.,   247.,   271.,\n",
       "         282.,   257.,   249.,   248.,   203.,   223.,   205.,   220.,\n",
       "         207.,   215.,   210.,   213.,   210.,   201.,   210.,   223.,\n",
       "         213.,   215.,   190.,   209.,   199.,   205.,   202.,   192.,\n",
       "         190.,   193.,   184.,   210.,   205.,   199.,   214.,   210.,\n",
       "         211.,   211.,   195.,   202.,   193.,   193.,   191.,   194.,\n",
       "         196.,   205.,   209.,   183.,   224.,   223.,   217.,   237.,\n",
       "         223.,   233.,   188.,   198.,   199.,   227.,   221.,   214.,\n",
       "         185.,   212.,   217.,   210.,   204.,   183.,   211.,   212.,\n",
       "         218.,   191.,   206.,   228.,   205.,   200.,   163.,   194.,\n",
       "         190.,   186.,   175.,   185.,   190.,   195.,   208.,   186.,\n",
       "         185.,   177.,   185.,   191.,   199.,   138.,   183.,   170.,\n",
       "         160.,   184.,   163.,   177.,   183.,   176.,   180.,   169.,\n",
       "         157.,   170.,   138.,   153.,   166.,   184.,   156.,   174.,\n",
       "         174.,   152.,   156.,   139.,   131.,   140.,   152.,   155.,\n",
       "         124.,   155.,   181.,   156.,   149.,   147.,   137.,   142.,\n",
       "         162.,   158.,   147.,   154.,   142.,   160.,   141.,   143.,\n",
       "         135.,   135.,   140.,   141.,   116.,   125.,   132.,   141.,\n",
       "         115.,   129.,   153.,   145.,   136.,   143.,   120.,   135.,\n",
       "         110.,   132.,   131.,   138.,   121.,   124.,   128.,   128.,\n",
       "          99.,   130.,   112.,   142.,   129.,    97.,   124.,   119.,\n",
       "         113.,   120.,   109.,   123.,   111.,   141.,    96.,   120.,\n",
       "          92.,   113.,    97.,   109.,   115.,   110.,   131.,   122.,\n",
       "         112.,   114.,   103.,   111.,   111.,   105.,   111.,   101.,\n",
       "          95.,   126.,   105.,    88.,   105.,   134.,   112.,   102.,\n",
       "          95.,   104.,    93.,   104.,    93.,    87.,   117.,    90.,\n",
       "          93.,   113.,   104.,    89.,    85.,    83.,    98.,    88.,\n",
       "          92.,    94.,   105.,    71.,    84.,    97.,    86.,    74.,\n",
       "          89.,    98.,    93.,    82.,    90.,    87.,    92.,   104.,\n",
       "          78.,    96.,    89.,    92.,    84.,   100.,    91.,    96.,\n",
       "          95.,    86.,    72.,    89.,    89.,    80.,    70.,    84.,\n",
       "         100.,    84.,    87.,    82.,    77.,    71.,    85.,    79.,\n",
       "          79.,    77.,    81.,    71.,   100.,    69.,    73.,   106.,\n",
       "          95.,    74.,    74.,    82.,    81.,    75.,    77.,    74.,\n",
       "          94.,    90.,    74.,    86.,    81.,    77.,    77.,    88.,\n",
       "          70.,    82.,    81.,    81.,    78.,    80.,    70.,    75.,\n",
       "          88.,    87.,    70.,    67.,    81.,    86.,    57.,    86.,\n",
       "          78.,    84.,    68.,    71.,    80.,    65.,    72.,    61.,\n",
       "          73.,    80.,    73.,    82.,    71.,    87.,    55.,    73.,\n",
       "          89.,    73.,    71.,    72.,    67.,    47.,    62.,    66.,\n",
       "          72.,    77.,    71.,    62.,    72.,    63.,    59.,    86.,\n",
       "          82.,    77.,    83.,    63.,    84.,    68.,    67.,    86.,\n",
       "          69.,    70.,    63.,    71.,    75.,    69.,    93.,    56.,\n",
       "          81.,    73.,    69.,    88.,    65.,    80.,    64.,    74.,\n",
       "          86.,    63.,    90.,    74.,    71.,    72.,    82.,    69.,\n",
       "          89.,    77.,    73.,    69.,    87.,    94.,    79.,    82.,\n",
       "          92.,    85.,    74.,    84.,    78.,    86.,    74.,    81.,\n",
       "          57.,    60.,    46.,    60.,    73.,    62.,    63.,    84.,\n",
       "          62.,    62.,    56.,    72.,    70.,   110.,   545.,  5399.])"
      ]
     },
     "execution_count": 6,
     "metadata": {},
     "output_type": "execute_result"
    }
   ],
   "source": [
    "brn"
   ]
  },
  {
   "cell_type": "code",
   "execution_count": 7,
   "id": "cdbd0198",
   "metadata": {},
   "outputs": [
    {
     "data": {
      "text/plain": [
       "array([  0.,   1.,   2.,   3.,   4.,   5.,   6.,   7.,   8.,   9.,  10.,\n",
       "        11.,  12.,  13.,  14.,  15.,  16.,  17.,  18.,  19.,  20.,  21.,\n",
       "        22.,  23.,  24.,  25.,  26.,  27.,  28.,  29.,  30.,  31.,  32.,\n",
       "        33.,  34.,  35.,  36.,  37.,  38.,  39.,  40.,  41.,  42.,  43.,\n",
       "        44.,  45.,  46.,  47.,  48.,  49.,  50.,  51.,  52.,  53.,  54.,\n",
       "        55.,  56.,  57.,  58.,  59.,  60.,  61.,  62.,  63.,  64.,  65.,\n",
       "        66.,  67.,  68.,  69.,  70.,  71.,  72.,  73.,  74.,  75.,  76.,\n",
       "        77.,  78.,  79.,  80.,  81.,  82.,  83.,  84.,  85.,  86.,  87.,\n",
       "        88.,  89.,  90.,  91.,  92.,  93.,  94.,  95.,  96.,  97.,  98.,\n",
       "        99., 100., 101., 102., 103., 104., 105., 106., 107., 108., 109.,\n",
       "       110., 111., 112., 113., 114., 115., 116., 117., 118., 119., 120.,\n",
       "       121., 122., 123., 124., 125., 126., 127., 128., 129., 130., 131.,\n",
       "       132., 133., 134., 135., 136., 137., 138., 139., 140., 141., 142.,\n",
       "       143., 144., 145., 146., 147., 148., 149., 150., 151., 152., 153.,\n",
       "       154., 155., 156., 157., 158., 159., 160., 161., 162., 163., 164.,\n",
       "       165., 166., 167., 168., 169., 170., 171., 172., 173., 174., 175.,\n",
       "       176., 177., 178., 179., 180., 181., 182., 183., 184., 185., 186.,\n",
       "       187., 188., 189., 190., 191., 192., 193., 194., 195., 196., 197.,\n",
       "       198., 199., 200., 201., 202., 203., 204., 205., 206., 207., 208.,\n",
       "       209., 210., 211., 212., 213., 214., 215., 216., 217., 218., 219.,\n",
       "       220., 221., 222., 223., 224., 225., 226., 227., 228., 229., 230.,\n",
       "       231., 232., 233., 234., 235., 236., 237., 238., 239., 240., 241.,\n",
       "       242., 243., 244., 245., 246., 247., 248., 249., 250., 251., 252.,\n",
       "       253., 254., 255., 256., 257., 258., 259., 260., 261., 262., 263.,\n",
       "       264., 265., 266., 267., 268., 269., 270., 271., 272., 273., 274.,\n",
       "       275., 276., 277., 278., 279., 280., 281., 282., 283., 284., 285.,\n",
       "       286., 287., 288., 289., 290., 291., 292., 293., 294., 295., 296.,\n",
       "       297., 298., 299., 300., 301., 302., 303., 304., 305., 306., 307.,\n",
       "       308., 309., 310., 311., 312., 313., 314., 315., 316., 317., 318.,\n",
       "       319., 320., 321., 322., 323., 324., 325., 326., 327., 328., 329.,\n",
       "       330., 331., 332., 333., 334., 335., 336., 337., 338., 339., 340.,\n",
       "       341., 342., 343., 344., 345., 346., 347., 348., 349., 350., 351.,\n",
       "       352., 353., 354., 355., 356., 357., 358., 359., 360., 361., 362.,\n",
       "       363., 364., 365., 366., 367., 368., 369., 370., 371., 372., 373.,\n",
       "       374., 375., 376., 377., 378., 379., 380., 381., 382., 383., 384.,\n",
       "       385., 386., 387., 388., 389., 390., 391., 392., 393., 394., 395.,\n",
       "       396., 397., 398., 399., 400.])"
      ]
     },
     "execution_count": 7,
     "metadata": {},
     "output_type": "execute_result"
    }
   ],
   "source": [
    "brn_bins"
   ]
  },
  {
   "cell_type": "code",
   "execution_count": 8,
   "id": "5d61b355",
   "metadata": {},
   "outputs": [
    {
     "data": {
      "text/plain": [
       "79369.0"
      ]
     },
     "execution_count": 8,
     "metadata": {},
     "output_type": "execute_result"
    }
   ],
   "source": [
    "brn.sum()-72.-70.-110.-545.-5399."
   ]
  },
  {
   "cell_type": "markdown",
   "id": "98a35e61",
   "metadata": {},
   "source": [
    "## Generate BRN Kinetic Energy"
   ]
  },
  {
   "cell_type": "code",
   "execution_count": 9,
   "id": "330b41b3",
   "metadata": {},
   "outputs": [],
   "source": [
    "rng = np.random.default_rng()"
   ]
  },
  {
   "cell_type": "code",
   "execution_count": 10,
   "id": "d6c00c4e",
   "metadata": {},
   "outputs": [],
   "source": [
    "def getNSamples(xmin, xmax, N):\n",
    "    return rng.uniform(xmin, xmax, N)"
   ]
  },
  {
   "cell_type": "code",
   "execution_count": 11,
   "id": "75efe3a8",
   "metadata": {},
   "outputs": [],
   "source": [
    "def isAccepted(n, vPDF, maxPDF):\n",
    "    return rng.uniform(0., maxPDF, n) < vPDF"
   ]
  },
  {
   "cell_type": "code",
   "execution_count": 12,
   "id": "db7fde36",
   "metadata": {},
   "outputs": [],
   "source": [
    "def rejectSampling(kemin, kemax, nSamples):\n",
    "    outSamples = getNSamples(kemin, kemax, nSamples)\n",
    "    outSampleBins = np.floor(outSamples).astype(int)\n",
    "    outPDF = brn[outSampleBins]\n",
    "    maxPDF = brn[0]\n",
    "\n",
    "    mask = isAccepted(len(outSamples), outPDF, maxPDF)\n",
    "    reject, = np.where(~mask)\n",
    "\n",
    "    while reject.size > 0:\n",
    "        fill = getNSamples(kemin, kemax, reject.size)\n",
    "        fillBins = np.floor(fill).astype(int)\n",
    "        \n",
    "        fillPDF = brn[fillBins]\n",
    "        mask = isAccepted(len(fill), fillPDF, maxPDF)\n",
    "        outSamples[reject[mask]] = fill[mask]\n",
    "        reject = reject[~mask]\n",
    "\n",
    "    return outSamples"
   ]
  },
  {
   "cell_type": "code",
   "execution_count": 13,
   "id": "f0c876ea",
   "metadata": {},
   "outputs": [
    {
     "data": {
      "text/plain": [
       "500000"
      ]
     },
     "execution_count": 13,
     "metadata": {},
     "output_type": "execute_result"
    }
   ],
   "source": [
    "nSamples = 500000\n",
    "voutSamples = rejectSampling(0., 395., nSamples)\n",
    "len(voutSamples)"
   ]
  },
  {
   "cell_type": "code",
   "execution_count": 14,
   "id": "52923815",
   "metadata": {},
   "outputs": [
    {
     "data": {
      "text/plain": [
       "array([3.02239382e-01, 2.50991502e-01, 2.39990307e+01, ...,\n",
       "       1.06049160e+00, 1.95912198e-01, 3.89008872e+02])"
      ]
     },
     "execution_count": 14,
     "metadata": {},
     "output_type": "execute_result"
    }
   ],
   "source": [
    "voutSamples"
   ]
  },
  {
   "cell_type": "markdown",
   "id": "4ff3d026",
   "metadata": {},
   "source": [
    "## Validation"
   ]
  },
  {
   "cell_type": "code",
   "execution_count": 15,
   "id": "370cb3c6",
   "metadata": {},
   "outputs": [
    {
     "data": {
      "image/png": "[encoded data removed]",
      "text/plain": [
       "<Figure size 800x600 with 1 Axes>"
      ]
     },
     "metadata": {},
     "output_type": "display_data"
    }
   ],
   "source": [
    "fig, ax = plt.subplots( figsize = (8, 6) )  \n",
    "\n",
    "ax.hist(voutSamples, bins = np.linspace(0, 400, 401), histtype = 'step', lw = 2, label = 'Simulated BRN')\n",
    "ax.bar(brn_bins[:-1], brn*nSamples/79369., width = np.diff(brn_bins), align = \"edge\", \n",
    "       color = 'powderblue', label = 'Reference BRN')\n",
    "ax.set_xlabel( 'Neutron Kinetic Energy [MeV]', fontsize = 16 )\n",
    "ax.tick_params(axis = 'x', labelsize = 16)\n",
    "ax.tick_params(axis = 'y', labelsize = 16)\n",
    "ax.set_xlim( [0, 400])\n",
    "ax.semilogy()\n",
    "ax.grid(':')\n",
    "ax.legend( fontsize = 16)\n",
    "fig.savefig('BRNSpectrum.pdf')"
   ]
  },
  {
   "cell_type": "code",
   "execution_count": 16,
   "id": "4307470e",
   "metadata": {},
   "outputs": [
    {
     "data": {
      "text/plain": [
       "(array([124238,  17208,  17589,   8577,   7332,   5485,   4786,   3584,\n",
       "          3025,   2786,   2304,   2026,   1672,   1675,   1563,   1668,\n",
       "          1746,   1586,   1488,   1596,   1312,   1350,   1299,   1436,\n",
       "          1347,   1266,   1290,   1351,   1324,   1309,   1345,   1459,\n",
       "          1378,   1391,   1231,   1258,   1304,   1248,   1253,   1262,\n",
       "          1176,   1194,   1155,   1353,   1289,   1276,   1322,   1287,\n",
       "          1382,   1350,   1289,   1227,   1228,   1220,   1179,   1222,\n",
       "          1185,   1267,   1389,   1111,   1445,   1379,   1354,   1502,\n",
       "          1411,   1440,   1148,   1317,   1203,   1457,   1434,   1403,\n",
       "          1170,   1248,   1276,   1322,   1218,   1156,   1271,   1349,\n",
       "          1382,   1166,   1270,   1486,   1291,   1248,    962,   1218,\n",
       "          1190,   1144,   1075,   1156,   1181,   1178,   1345,   1129,\n",
       "          1164,   1032,   1114,   1180,   1208,    832,   1091,   1072,\n",
       "           990,   1164,   1031,   1071,   1179,   1072,   1085,   1050,\n",
       "           938,   1031,    871,    967,   1040,   1160,    946,   1056,\n",
       "          1155,    963,    952,    887,    859,    898,    924,    992,\n",
       "           752,    992,   1171,    989,    908,    886,    886,    828,\n",
       "           990,    979,    888,    991,    872,   1039,    881,    915,\n",
       "           843,    846,    841,    917,    731,    778,    856,    885,\n",
       "           730,    824,    930,    900,    865,    910,    751,    901,\n",
       "           698,    875,    839,    890,    801,    721,    786,    801,\n",
       "           648,    792,    715,    900,    825,    585,    766,    704,\n",
       "           709,    710,    651,    807,    673,    876,    610,    828,\n",
       "           600,    703,    628,    695,    710,    661,    816,    735,\n",
       "           689,    693,    615,    712,    676,    625,    693,    639,\n",
       "           551,    784,    697,    584,    649,    833,    732,    651,\n",
       "           593,    632,    605,    637,    590,    552,    740,    562,\n",
       "           591,    736,    641,    550,    528,    544,    682,    575,\n",
       "           580,    592,    638,    455,    524,    657,    510,    489,\n",
       "           578,    632,    586,    500,    556,    511,    527,    689,\n",
       "           498,    640,    551,    577,    579,    672,    589,    586,\n",
       "           572,    534,    409,    586,    533,    479,    475,    523,\n",
       "           667,    537,    547,    525,    486,    441,    546,    516,\n",
       "           500,    472,    509,    409,    658,    415,    470,    692,\n",
       "           602,    471,    472,    543,    538,    499,    436,    458,\n",
       "           567,    560,    472,    573,    469,    471,    523,    533,\n",
       "           475,    556,    540,    542,    479,    465,    461,    502,\n",
       "           553,    518,    475,    441,    525,    553,    367,    566,\n",
       "           522,    536,    428,    452,    553,    411,    443,    381,\n",
       "           440,    493,    468,    531,    481,    556,    355,    471,\n",
       "           597,    440,    489,    457,    389,    295,    349,    432,\n",
       "           450,    491,    416,    354,    479,    393,    364,    559,\n",
       "           526,    482,    520,    402,    525,    455,    412,    532,\n",
       "           427,    456,    365,    428,    482,    429,    569,    396,\n",
       "           550,    473,    459,    557,    438,    536,    419,    448,\n",
       "           576,    391,    541,    456,    470,    479,    542,    468,\n",
       "           559,    523,    511,    442,    575,    599,    490,    536,\n",
       "           572,    514,    482,    577,    493,    544,    468,    521,\n",
       "           373,    383,    302,    359,    463,    380,    416,    509,\n",
       "           384,    393,    366]),\n",
       " array([  0.,   1.,   2.,   3.,   4.,   5.,   6.,   7.,   8.,   9.,  10.,\n",
       "         11.,  12.,  13.,  14.,  15.,  16.,  17.,  18.,  19.,  20.,  21.,\n",
       "         22.,  23.,  24.,  25.,  26.,  27.,  28.,  29.,  30.,  31.,  32.,\n",
       "         33.,  34.,  35.,  36.,  37.,  38.,  39.,  40.,  41.,  42.,  43.,\n",
       "         44.,  45.,  46.,  47.,  48.,  49.,  50.,  51.,  52.,  53.,  54.,\n",
       "         55.,  56.,  57.,  58.,  59.,  60.,  61.,  62.,  63.,  64.,  65.,\n",
       "         66.,  67.,  68.,  69.,  70.,  71.,  72.,  73.,  74.,  75.,  76.,\n",
       "         77.,  78.,  79.,  80.,  81.,  82.,  83.,  84.,  85.,  86.,  87.,\n",
       "         88.,  89.,  90.,  91.,  92.,  93.,  94.,  95.,  96.,  97.,  98.,\n",
       "         99., 100., 101., 102., 103., 104., 105., 106., 107., 108., 109.,\n",
       "        110., 111., 112., 113., 114., 115., 116., 117., 118., 119., 120.,\n",
       "        121., 122., 123., 124., 125., 126., 127., 128., 129., 130., 131.,\n",
       "        132., 133., 134., 135., 136., 137., 138., 139., 140., 141., 142.,\n",
       "        143., 144., 145., 146., 147., 148., 149., 150., 151., 152., 153.,\n",
       "        154., 155., 156., 157., 158., 159., 160., 161., 162., 163., 164.,\n",
       "        165., 166., 167., 168., 169., 170., 171., 172., 173., 174., 175.,\n",
       "        176., 177., 178., 179., 180., 181., 182., 183., 184., 185., 186.,\n",
       "        187., 188., 189., 190., 191., 192., 193., 194., 195., 196., 197.,\n",
       "        198., 199., 200., 201., 202., 203., 204., 205., 206., 207., 208.,\n",
       "        209., 210., 211., 212., 213., 214., 215., 216., 217., 218., 219.,\n",
       "        220., 221., 222., 223., 224., 225., 226., 227., 228., 229., 230.,\n",
       "        231., 232., 233., 234., 235., 236., 237., 238., 239., 240., 241.,\n",
       "        242., 243., 244., 245., 246., 247., 248., 249., 250., 251., 252.,\n",
       "        253., 254., 255., 256., 257., 258., 259., 260., 261., 262., 263.,\n",
       "        264., 265., 266., 267., 268., 269., 270., 271., 272., 273., 274.,\n",
       "        275., 276., 277., 278., 279., 280., 281., 282., 283., 284., 285.,\n",
       "        286., 287., 288., 289., 290., 291., 292., 293., 294., 295., 296.,\n",
       "        297., 298., 299., 300., 301., 302., 303., 304., 305., 306., 307.,\n",
       "        308., 309., 310., 311., 312., 313., 314., 315., 316., 317., 318.,\n",
       "        319., 320., 321., 322., 323., 324., 325., 326., 327., 328., 329.,\n",
       "        330., 331., 332., 333., 334., 335., 336., 337., 338., 339., 340.,\n",
       "        341., 342., 343., 344., 345., 346., 347., 348., 349., 350., 351.,\n",
       "        352., 353., 354., 355., 356., 357., 358., 359., 360., 361., 362.,\n",
       "        363., 364., 365., 366., 367., 368., 369., 370., 371., 372., 373.,\n",
       "        374., 375., 376., 377., 378., 379., 380., 381., 382., 383., 384.,\n",
       "        385., 386., 387., 388., 389., 390., 391., 392., 393., 394., 395.]))"
      ]
     },
     "execution_count": 16,
     "metadata": {},
     "output_type": "execute_result"
    }
   ],
   "source": [
    "outHist = np.histogram(voutSamples, bins = np.linspace(0, 395, 396))\n",
    "outHist"
   ]
  },
  {
   "cell_type": "code",
   "execution_count": 17,
   "id": "188a58ed",
   "metadata": {},
   "outputs": [
    {
     "data": {
      "text/plain": [
       "395"
      ]
     },
     "execution_count": 17,
     "metadata": {},
     "output_type": "execute_result"
    }
   ],
   "source": [
    "ref = brn[:-5]*nSamples/79369.\n",
    "len(ref)"
   ]
  },
  {
   "cell_type": "code",
   "execution_count": 18,
   "id": "eef5ead6",
   "metadata": {},
   "outputs": [
    {
     "data": {
      "text/plain": [
       "395"
      ]
     },
     "execution_count": 18,
     "metadata": {},
     "output_type": "execute_result"
    }
   ],
   "source": [
    "len(outHist[0])"
   ]
  },
  {
   "cell_type": "code",
   "execution_count": 19,
   "id": "5139a082",
   "metadata": {},
   "outputs": [],
   "source": [
    "trim_bins = brn_bins[:-5]"
   ]
  },
  {
   "cell_type": "code",
   "execution_count": 20,
   "id": "3e3acb36",
   "metadata": {},
   "outputs": [
    {
     "data": {
      "image/png": "[encoded data removed]",
      "text/plain": [
       "<Figure size 400x300 with 1 Axes>"
      ]
     },
     "metadata": {},
     "output_type": "display_data"
    }
   ],
   "source": [
    "fig, ax = plt.subplots( figsize = (4, 3) )  \n",
    "\n",
    "ax.bar(brn_bins[:-6], (outHist[0]-ref)/ref, width = np.diff(brn_bins[:-5]), align = \"edge\")\n",
    "ax.set_xlabel( 'Neutron Kinetic Energy [MeV]', fontsize = 12 )\n",
    "ax.tick_params(axis = 'x', labelsize = 12)\n",
    "ax.tick_params(axis = 'y', labelsize = 12)\n",
    "ax.set_xlim( [0, 400])\n",
    "# ax.semilogy()\n",
    "ax.grid(':')"
   ]
  },
  {
   "cell_type": "markdown",
   "id": "3b713406",
   "metadata": {},
   "source": [
    "## Fill the output ROOT file"
   ]
  },
  {
   "cell_type": "code",
   "execution_count": 21,
   "id": "be22dc41",
   "metadata": {},
   "outputs": [],
   "source": [
    "from array import array"
   ]
  },
  {
   "cell_type": "code",
   "execution_count": 22,
   "id": "f24a1164",
   "metadata": {},
   "outputs": [],
   "source": [
    "nPdg = 2112\n",
    "# unit: MeV\n",
    "nMass = 939.5654205"
   ]
  },
  {
   "cell_type": "code",
   "execution_count": 23,
   "id": "1c3cae66",
   "metadata": {},
   "outputs": [
    {
     "data": {
      "text/plain": [
       "50"
      ]
     },
     "execution_count": 23,
     "metadata": {},
     "output_type": "execute_result"
    }
   ],
   "source": [
    "nEventPerFile = 10000\n",
    "nFiles = int(nSamples/nEventPerFile)\n",
    "nFiles"
   ]
  },
  {
   "cell_type": "code",
   "execution_count": 24,
   "id": "ae2981bb",
   "metadata": {},
   "outputs": [],
   "source": [
    "outdir = '/Users/yuntse/data/coherent/preLArTPC/mcnp/brn500K'"
   ]
  },
  {
   "cell_type": "code",
   "execution_count": 25,
   "id": "122a9677",
   "metadata": {},
   "outputs": [
    {
     "name": "stdout",
     "output_type": "stream",
     "text": [
      "saving event 9999 in file 0....\n",
      "saving event 19999 in file 1....\n",
      "saving event 29999 in file 2....\n",
      "saving event 39999 in file 3....\n",
      "saving event 49999 in file 4....\n",
      "saving event 59999 in file 5....\n",
      "saving event 69999 in file 6....\n",
      "saving event 79999 in file 7....\n",
      "saving event 89999 in file 8....\n",
      "saving event 99999 in file 9....\n",
      "saving event 109999 in file 10....\n",
      "saving event 119999 in file 11....\n",
      "saving event 129999 in file 12....\n",
      "saving event 139999 in file 13....\n",
      "saving event 149999 in file 14....\n",
      "saving event 159999 in file 15....\n",
      "saving event 169999 in file 16....\n",
      "saving event 179999 in file 17....\n",
      "saving event 189999 in file 18....\n",
      "saving event 199999 in file 19....\n",
      "saving event 209999 in file 20....\n",
      "saving event 219999 in file 21....\n",
      "saving event 229999 in file 22....\n",
      "saving event 239999 in file 23....\n",
      "saving event 249999 in file 24....\n",
      "saving event 259999 in file 25....\n",
      "saving event 269999 in file 26....\n",
      "saving event 279999 in file 27....\n",
      "saving event 289999 in file 28....\n",
      "saving event 299999 in file 29....\n",
      "saving event 309999 in file 30....\n",
      "saving event 319999 in file 31....\n",
      "saving event 329999 in file 32....\n",
      "saving event 339999 in file 33....\n",
      "saving event 349999 in file 34....\n",
      "saving event 359999 in file 35....\n",
      "saving event 369999 in file 36....\n",
      "saving event 379999 in file 37....\n",
      "saving event 389999 in file 38....\n",
      "saving event 399999 in file 39....\n",
      "saving event 409999 in file 40....\n",
      "saving event 419999 in file 41....\n",
      "saving event 429999 in file 42....\n",
      "saving event 439999 in file 43....\n",
      "saving event 449999 in file 44....\n",
      "saving event 459999 in file 45....\n",
      "saving event 469999 in file 46....\n",
      "saving event 479999 in file 47....\n",
      "saving event 489999 in file 48....\n",
      "saving event 499999 in file 49....\n"
     ]
    }
   ],
   "source": [
    "iFile = 0\n",
    "\n",
    "for i in range(nSamples):\n",
    "    if i%nEventPerFile == 0:\n",
    "        iFile = int(i/nEventPerFile)\n",
    "        outFile = f'{outdir}/brn_{iFile:04d}.root'\n",
    "        \n",
    "        f = ROOT.TFile(outFile, \"RECREATE\")\n",
    "        t = ROOT.TTree(\"kin\", \"Beam Related Neutron\")\n",
    "        \n",
    "        # Declare the variables\n",
    "        event = array( 'i', [0] )\n",
    "        vpdg = ROOT.std.vector('int')()\n",
    "        vE   = ROOT.std.vector('double')()\n",
    "        vpx  = ROOT.std.vector('double')()\n",
    "        vpy  = ROOT.std.vector('double')()\n",
    "        vpz  = ROOT.std.vector('double')()\n",
    "        vm   = ROOT.std.vector('double')()\n",
    "\n",
    "        # Set the branches\n",
    "        t.Branch('event', event, 'event/I')\n",
    "        t.Branch('pdg', vpdg)\n",
    "        t.Branch('E', vE)\n",
    "        t.Branch('px', vpx)\n",
    "        t.Branch('py', vpy)\n",
    "        t.Branch('pz', vpz)\n",
    "        t.Branch('m', vm)\n",
    "\n",
    "    vpdg.clear()\n",
    "    vE.clear()\n",
    "    vpx.clear()\n",
    "    vpy.clear()\n",
    "    vpz.clear()\n",
    "    vm.clear()\n",
    "\n",
    "    event[0] = i\n",
    "    \n",
    "    # Calculate the 4-momentum\n",
    "    E = voutSamples[i]+nMass\n",
    "    p = np.sqrt( E**2 - nMass**2 )\n",
    "    px = 0.\n",
    "    py = p\n",
    "    pz = 0.\n",
    "    \n",
    "    vpdg.push_back( nPdg )\n",
    "    vE.push_back( E )\n",
    "    vpx.push_back( px )\n",
    "    vpy.push_back( py )\n",
    "    vpz.push_back( pz )\n",
    "    vm.push_back( nMass )\n",
    "    \n",
    "    t.Fill()\n",
    "    \n",
    "    if (i%nEventPerFile == nEventPerFile-1):\n",
    "        print( f'saving event {i} in file {iFile}....')\n",
    "        f.Write()\n",
    "        f.Close()"
   ]
  },
  {
   "cell_type": "code",
   "execution_count": null,
   "id": "6896de33",
   "metadata": {},
   "outputs": [],
   "source": []
  }
 ],
 "metadata": {
  "kernelspec": {
   "display_name": "Python 3 (ipykernel)",
   "language": "python",
   "name": "python3"
  },
  "language_info": {
   "codemirror_mode": {
    "name": "ipython",
    "version": 3
   },
   "file_extension": ".py",
   "mimetype": "text/x-python",
   "name": "python",
   "nbconvert_exporter": "python",
   "pygments_lexer": "ipython3",
   "version": "3.11.5"
  }
 },
 "nbformat": 4,
 "nbformat_minor": 5
}
