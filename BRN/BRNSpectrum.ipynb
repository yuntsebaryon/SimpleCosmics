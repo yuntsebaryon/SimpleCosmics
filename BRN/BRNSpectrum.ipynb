{
 "cells": [
  {
   "cell_type": "markdown",
   "id": "81861b72",
   "metadata": {},
   "source": [
    "# Generate Beam-Related Neutron (BRN)"
   ]
  },
  {
   "cell_type": "code",
   "execution_count": 1,
   "id": "f6cb2836",
   "metadata": {},
   "outputs": [],
   "source": [
    "import ROOT\n",
    "import numpy as np\n",
    "import pandas as pd\n",
    "import matplotlib.pyplot as plt"
   ]
  },
  {
   "cell_type": "markdown",
   "id": "18d4d966",
   "metadata": {},
   "source": [
    "## Load the BRN spectrum"
   ]
  },
  {
   "cell_type": "code",
   "execution_count": 2,
   "id": "95d788b7",
   "metadata": {},
   "outputs": [],
   "source": [
    "filename = '/Users/yuntse/data/coherent/preLArTPC/mcnp/BRN_400M_100cm_1e5.root'\n",
    "f = ROOT.TFile( filename, 'READ')"
   ]
  },
  {
   "cell_type": "code",
   "execution_count": 3,
   "id": "db61e730",
   "metadata": {},
   "outputs": [],
   "source": [
    "hBRN = f.Get(\"1\")"
   ]
  },
  {
   "cell_type": "code",
   "execution_count": 4,
   "id": "32da037a",
   "metadata": {},
   "outputs": [
    {
     "data": {
      "image/png": "[encoded data removed]",
      "text/plain": [
       "<IPython.core.display.Image object>"
      ]
     },
     "metadata": {},
     "output_type": "display_data"
    }
   ],
   "source": [
    "canvas = ROOT.TCanvas(\"c1\", \"BRN KE\")\n",
    "hBRN.Draw()\n",
    "canvas.Draw()"
   ]
  },
  {
   "cell_type": "code",
   "execution_count": 5,
   "id": "ac61621d",
   "metadata": {},
   "outputs": [],
   "source": [
    "brn = np.array([ hBRN.GetBinContent(i+1) for i in range(hBRN.GetNbinsX()) ])\n",
    "brn_bins = np.array([ hBRN.GetBinLowEdge(i+1) for i in range(hBRN.GetNbinsX() + 1) ])"
   ]
  },
  {
   "cell_type": "code",
   "execution_count": 6,
   "id": "3a71a8a6",
   "metadata": {},
   "outputs": [
    {
     "data": {
      "text/plain": [
       "array([19716.,  2688.,  2803.,  1351.,  1160.,   868.,   767.,   552.,\n",
       "         489.,   445.,   356.,   330.,   275.,   255.,   247.,   271.,\n",
       "         282.,   257.,   249.,   248.,   203.,   223.,   205.,   220.,\n",
       "         207.,   215.,   210.,   213.,   210.,   201.,   210.,   223.,\n",
       "         213.,   215.,   190.,   209.,   199.,   205.,   202.,   192.,\n",
       "         190.,   193.,   184.,   210.,   205.,   199.,   214.,   210.,\n",
       "         211.,   211.,   195.,   202.,   193.,   193.,   191.,   194.,\n",
       "         196.,   205.,   209.,   183.,   224.,   223.,   217.,   237.,\n",
       "         223.,   233.,   188.,   198.,   199.,   227.,   221.,   214.,\n",
       "         185.,   212.,   217.,   210.,   204.,   183.,   211.,   212.,\n",
       "         218.,   191.,   206.,   228.,   205.,   200.,   163.,   194.,\n",
       "         190.,   186.,   175.,   185.,   190.,   195.,   208.,   186.,\n",
       "         185.,   177.,   185.,   191.,   199.,   138.,   183.,   170.,\n",
       "         160.,   184.,   163.,   177.,   183.,   176.,   180.,   169.,\n",
       "         157.,   170.,   138.,   153.,   166.,   184.,   156.,   174.,\n",
       "         174.,   152.,   156.,   139.,   131.,   140.,   152.,   155.,\n",
       "         124.,   155.,   181.,   156.,   149.,   147.,   137.,   142.,\n",
       "         162.,   158.,   147.,   154.,   142.,   160.,   141.,   143.,\n",
       "         135.,   135.,   140.,   141.,   116.,   125.,   132.,   141.,\n",
       "         115.,   129.,   153.,   145.,   136.,   143.,   120.,   135.,\n",
       "         110.,   132.,   131.,   138.,   121.,   124.,   128.,   128.,\n",
       "          99.,   130.,   112.,   142.,   129.,    97.,   124.,   119.,\n",
       "         113.,   120.,   109.,   123.,   111.,   141.,    96.,   120.,\n",
       "          92.,   113.,    97.,   109.,   115.,   110.,   131.,   122.,\n",
       "         112.,   114.,   103.,   111.,   111.,   105.,   111.,   101.,\n",
       "          95.,   126.,   105.,    88.,   105.,   134.,   112.,   102.,\n",
       "          95.,   104.,    93.,   104.,    93.,    87.,   117.,    90.,\n",
       "          93.,   113.,   104.,    89.,    85.,    83.,    98.,    88.,\n",
       "          92.,    94.,   105.,    71.,    84.,    97.,    86.,    74.,\n",
       "          89.,    98.,    93.,    82.,    90.,    87.,    92.,   104.,\n",
       "          78.,    96.,    89.,    92.,    84.,   100.,    91.,    96.,\n",
       "          95.,    86.,    72.,    89.,    89.,    80.,    70.,    84.,\n",
       "         100.,    84.,    87.,    82.,    77.,    71.,    85.,    79.,\n",
       "          79.,    77.,    81.,    71.,   100.,    69.,    73.,   106.,\n",
       "          95.,    74.,    74.,    82.,    81.,    75.,    77.,    74.,\n",
       "          94.,    90.,    74.,    86.,    81.,    77.,    77.,    88.,\n",
       "          70.,    82.,    81.,    81.,    78.,    80.,    70.,    75.,\n",
       "          88.,    87.,    70.,    67.,    81.,    86.,    57.,    86.,\n",
       "          78.,    84.,    68.,    71.,    80.,    65.,    72.,    61.,\n",
       "          73.,    80.,    73.,    82.,    71.,    87.,    55.,    73.,\n",
       "          89.,    73.,    71.,    72.,    67.,    47.,    62.,    66.,\n",
       "          72.,    77.,    71.,    62.,    72.,    63.,    59.,    86.,\n",
       "          82.,    77.,    83.,    63.,    84.,    68.,    67.,    86.,\n",
       "          69.,    70.,    63.,    71.,    75.,    69.,    93.,    56.,\n",
       "          81.,    73.,    69.,    88.,    65.,    80.,    64.,    74.,\n",
       "          86.,    63.,    90.,    74.,    71.,    72.,    82.,    69.,\n",
       "          89.,    77.,    73.,    69.,    87.,    94.,    79.,    82.,\n",
       "          92.,    85.,    74.,    84.,    78.,    86.,    74.,    81.,\n",
       "          57.,    60.,    46.,    60.,    73.,    62.,    63.,    84.,\n",
       "          62.,    62.,    56.,    72.,    70.,   110.,   545.,  5399.])"
      ]
     },
     "execution_count": 6,
     "metadata": {},
     "output_type": "execute_result"
    }
   ],
   "source": [
    "brn"
   ]
  },
  {
   "cell_type": "code",
   "execution_count": 7,
   "id": "c205e227",
   "metadata": {},
   "outputs": [
    {
     "data": {
      "text/plain": [
       "array([  0.,   1.,   2.,   3.,   4.,   5.,   6.,   7.,   8.,   9.,  10.,\n",
       "        11.,  12.,  13.,  14.,  15.,  16.,  17.,  18.,  19.,  20.,  21.,\n",
       "        22.,  23.,  24.,  25.,  26.,  27.,  28.,  29.,  30.,  31.,  32.,\n",
       "        33.,  34.,  35.,  36.,  37.,  38.,  39.,  40.,  41.,  42.,  43.,\n",
       "        44.,  45.,  46.,  47.,  48.,  49.,  50.,  51.,  52.,  53.,  54.,\n",
       "        55.,  56.,  57.,  58.,  59.,  60.,  61.,  62.,  63.,  64.,  65.,\n",
       "        66.,  67.,  68.,  69.,  70.,  71.,  72.,  73.,  74.,  75.,  76.,\n",
       "        77.,  78.,  79.,  80.,  81.,  82.,  83.,  84.,  85.,  86.,  87.,\n",
       "        88.,  89.,  90.,  91.,  92.,  93.,  94.,  95.,  96.,  97.,  98.,\n",
       "        99., 100., 101., 102., 103., 104., 105., 106., 107., 108., 109.,\n",
       "       110., 111., 112., 113., 114., 115., 116., 117., 118., 119., 120.,\n",
       "       121., 122., 123., 124., 125., 126., 127., 128., 129., 130., 131.,\n",
       "       132., 133., 134., 135., 136., 137., 138., 139., 140., 141., 142.,\n",
       "       143., 144., 145., 146., 147., 148., 149., 150., 151., 152., 153.,\n",
       "       154., 155., 156., 157., 158., 159., 160., 161., 162., 163., 164.,\n",
       "       165., 166., 167., 168., 169., 170., 171., 172., 173., 174., 175.,\n",
       "       176., 177., 178., 179., 180., 181., 182., 183., 184., 185., 186.,\n",
       "       187., 188., 189., 190., 191., 192., 193., 194., 195., 196., 197.,\n",
       "       198., 199., 200., 201., 202., 203., 204., 205., 206., 207., 208.,\n",
       "       209., 210., 211., 212., 213., 214., 215., 216., 217., 218., 219.,\n",
       "       220., 221., 222., 223., 224., 225., 226., 227., 228., 229., 230.,\n",
       "       231., 232., 233., 234., 235., 236., 237., 238., 239., 240., 241.,\n",
       "       242., 243., 244., 245., 246., 247., 248., 249., 250., 251., 252.,\n",
       "       253., 254., 255., 256., 257., 258., 259., 260., 261., 262., 263.,\n",
       "       264., 265., 266., 267., 268., 269., 270., 271., 272., 273., 274.,\n",
       "       275., 276., 277., 278., 279., 280., 281., 282., 283., 284., 285.,\n",
       "       286., 287., 288., 289., 290., 291., 292., 293., 294., 295., 296.,\n",
       "       297., 298., 299., 300., 301., 302., 303., 304., 305., 306., 307.,\n",
       "       308., 309., 310., 311., 312., 313., 314., 315., 316., 317., 318.,\n",
       "       319., 320., 321., 322., 323., 324., 325., 326., 327., 328., 329.,\n",
       "       330., 331., 332., 333., 334., 335., 336., 337., 338., 339., 340.,\n",
       "       341., 342., 343., 344., 345., 346., 347., 348., 349., 350., 351.,\n",
       "       352., 353., 354., 355., 356., 357., 358., 359., 360., 361., 362.,\n",
       "       363., 364., 365., 366., 367., 368., 369., 370., 371., 372., 373.,\n",
       "       374., 375., 376., 377., 378., 379., 380., 381., 382., 383., 384.,\n",
       "       385., 386., 387., 388., 389., 390., 391., 392., 393., 394., 395.,\n",
       "       396., 397., 398., 399., 400.])"
      ]
     },
     "execution_count": 7,
     "metadata": {},
     "output_type": "execute_result"
    }
   ],
   "source": [
    "brn_bins"
   ]
  },
  {
   "cell_type": "code",
   "execution_count": 17,
   "id": "4f965bc6",
   "metadata": {},
   "outputs": [
    {
     "data": {
      "text/plain": [
       "79369.0"
      ]
     },
     "execution_count": 17,
     "metadata": {},
     "output_type": "execute_result"
    }
   ],
   "source": [
    "brn.sum()-72.-70.-110.-545.-5399."
   ]
  },
  {
   "cell_type": "markdown",
   "id": "0b15f152",
   "metadata": {},
   "source": [
    "## Generate BRN Kinetic Energy"
   ]
  },
  {
   "cell_type": "code",
   "execution_count": 8,
   "id": "f0e3db86",
   "metadata": {},
   "outputs": [],
   "source": [
    "rng = np.random.default_rng()"
   ]
  },
  {
   "cell_type": "code",
   "execution_count": 9,
   "id": "9f0c4205",
   "metadata": {},
   "outputs": [],
   "source": [
    "def getNSamples(xmin, xmax, N):\n",
    "    return rng.uniform(xmin, xmax, N)"
   ]
  },
  {
   "cell_type": "code",
   "execution_count": 10,
   "id": "4f176574",
   "metadata": {},
   "outputs": [],
   "source": [
    "def isAccepted(n, vPDF, maxPDF):\n",
    "    return rng.uniform(0., maxPDF, n) < vPDF"
   ]
  },
  {
   "cell_type": "code",
   "execution_count": 11,
   "id": "4fd3bb50",
   "metadata": {},
   "outputs": [],
   "source": [
    "def rejectSampling(kemin, kemax, nSamples):\n",
    "    outSamples = getNSamples(kemin, kemax, nSamples)\n",
    "    outSampleBins = np.floor(outSamples).astype(int)\n",
    "    outPDF = brn[outSampleBins]\n",
    "    maxPDF = brn[0]\n",
    "\n",
    "    mask = isAccepted(len(outSamples), outPDF, maxPDF)\n",
    "    reject, = np.where(~mask)\n",
    "\n",
    "    while reject.size > 0:\n",
    "        fill = getNSamples(kemin, kemax, reject.size)\n",
    "        fillBins = np.floor(fill).astype(int)\n",
    "        \n",
    "        fillPDF = brn[fillBins]\n",
    "        mask = isAccepted(len(fill), fillPDF, maxPDF)\n",
    "        outSamples[reject[mask]] = fill[mask]\n",
    "        reject = reject[~mask]\n",
    "\n",
    "    return outSamples"
   ]
  },
  {
   "cell_type": "code",
   "execution_count": 12,
   "id": "3705b8e8",
   "metadata": {},
   "outputs": [
    {
     "data": {
      "text/plain": [
       "100000"
      ]
     },
     "execution_count": 12,
     "metadata": {},
     "output_type": "execute_result"
    }
   ],
   "source": [
    "nSamples = 100000\n",
    "voutSamples = rejectSampling(0., 395., nSamples)\n",
    "len(voutSamples)"
   ]
  },
  {
   "cell_type": "code",
   "execution_count": 13,
   "id": "c6ebc411",
   "metadata": {},
   "outputs": [
    {
     "data": {
      "text/plain": [
       "array([ 26.1410876 ,   0.70881796, 116.71603049, ..., 126.49595676,\n",
       "         0.35743733,  77.99983346])"
      ]
     },
     "execution_count": 13,
     "metadata": {},
     "output_type": "execute_result"
    }
   ],
   "source": [
    "voutSamples"
   ]
  },
  {
   "cell_type": "markdown",
   "id": "6e1546de",
   "metadata": {},
   "source": [
    "## Validation"
   ]
  },
  {
   "cell_type": "code",
   "execution_count": 18,
   "id": "65561d5d",
   "metadata": {},
   "outputs": [
    {
     "data": {
      "image/png": "[encoded data removed]",
      "text/plain": [
       "<Figure size 400x300 with 1 Axes>"
      ]
     },
     "metadata": {},
     "output_type": "display_data"
    }
   ],
   "source": [
    "fig, ax = plt.subplots( figsize = (4, 3) )  \n",
    "\n",
    "ax.hist(voutSamples, bins = np.linspace(0, 400, 401), histtype = 'step', lw = 2)\n",
    "ax.bar(brn_bins[:-1], brn*nSamples/79369., width = np.diff(brn_bins), align = \"edge\")\n",
    "ax.set_xlabel( 'Neutron Kinetic Energy [MeV]', fontsize = 12 )\n",
    "ax.tick_params(axis = 'x', labelsize = 12)\n",
    "ax.tick_params(axis = 'y', labelsize = 12)\n",
    "ax.set_xlim( [0, 400])\n",
    "ax.semilogy()\n",
    "ax.grid(':')"
   ]
  },
  {
   "cell_type": "code",
   "execution_count": 19,
   "id": "4a3edb20",
   "metadata": {},
   "outputs": [
    {
     "data": {
      "text/plain": [
       "(array([25079,  3302,  3622,  1724,  1396,  1124,   964,   757,   616,\n",
       "          516,   451,   387,   320,   314,   292,   327,   344,   314,\n",
       "          275,   312,   255,   275,   250,   287,   251,   277,   279,\n",
       "          277,   282,   233,   272,   266,   300,   255,   244,   264,\n",
       "          243,   264,   286,   246,   244,   235,   260,   271,   255,\n",
       "          229,   277,   281,   234,   273,   249,   261,   221,   260,\n",
       "          241,   244,   244,   264,   253,   242,   263,   270,   240,\n",
       "          275,   261,   317,   251,   285,   222,   303,   282,   274,\n",
       "          257,   292,   273,   239,   245,   216,   261,   290,   285,\n",
       "          271,   256,   268,   246,   243,   200,   250,   238,   234,\n",
       "          196,   201,   249,   260,   246,   252,   226,   218,   224,\n",
       "          248,   231,   177,   229,   202,   208,   239,   187,   233,\n",
       "          215,   237,   237,   206,   181,   217,   187,   187,   229,\n",
       "          225,   208,   204,   211,   180,   174,   168,   167,   178,\n",
       "          201,   203,   154,   220,   244,   164,   201,   196,   180,\n",
       "          178,   206,   205,   174,   205,   161,   200,   175,   214,\n",
       "          157,   194,   174,   182,   138,   174,   169,   185,   145,\n",
       "          166,   188,   189,   194,   196,   151,   176,   116,   165,\n",
       "          188,   177,   155,   146,   162,   161,   114,   153,   142,\n",
       "          184,   181,   134,   161,   140,   146,   155,   135,   174,\n",
       "          140,   190,   130,   137,   123,   150,   129,   132,   128,\n",
       "          128,   167,   143,   144,   136,   139,   132,   129,   132,\n",
       "          152,   127,   108,   152,   128,   123,   133,   180,   128,\n",
       "          113,   115,   132,   122,   146,   117,   130,   157,   115,\n",
       "          111,   139,   116,   103,    95,   106,   127,   114,   131,\n",
       "          121,   142,    89,    95,   125,    99,    87,   106,   133,\n",
       "          123,    96,   106,    93,   117,   117,   113,   116,   124,\n",
       "          120,   117,   107,   126,   113,   124,   105,    85,   109,\n",
       "           96,    88,    86,   106,   134,   125,    94,   103,   106,\n",
       "           90,    96,    98,    99,    90,   104,    95,   109,    94,\n",
       "           87,   143,   116,    98,   100,    93,   104,    97,    81,\n",
       "           85,   115,   101,   105,    94,   107,    90,   102,    91,\n",
       "           98,   107,   108,    94,   119,    92,    87,    77,   123,\n",
       "          112,    82,    94,    99,   117,    59,    92,    91,   109,\n",
       "          115,    84,    75,    73,    89,    77,    79,   100,    83,\n",
       "          104,    88,   112,    62,    85,   129,    95,    95,    82,\n",
       "           89,    57,    78,    75,    94,   104,   101,    72,    87,\n",
       "           50,    81,   103,   105,   120,    93,    87,   119,    89,\n",
       "           76,    84,    94,    73,    70,    84,    93,    92,   114,\n",
       "           74,   107,    93,    85,   121,    68,   104,    80,   103,\n",
       "          120,    81,   115,    77,    74,    92,   107,    89,   102,\n",
       "           99,    96,    82,   111,   124,    96,   123,   140,   103,\n",
       "           92,    91,    95,    91,   102,   105,    69,    68,    53,\n",
       "           81,    90,    72,    74,   111,    84,    77,    77]),\n",
       " array([  0.,   1.,   2.,   3.,   4.,   5.,   6.,   7.,   8.,   9.,  10.,\n",
       "         11.,  12.,  13.,  14.,  15.,  16.,  17.,  18.,  19.,  20.,  21.,\n",
       "         22.,  23.,  24.,  25.,  26.,  27.,  28.,  29.,  30.,  31.,  32.,\n",
       "         33.,  34.,  35.,  36.,  37.,  38.,  39.,  40.,  41.,  42.,  43.,\n",
       "         44.,  45.,  46.,  47.,  48.,  49.,  50.,  51.,  52.,  53.,  54.,\n",
       "         55.,  56.,  57.,  58.,  59.,  60.,  61.,  62.,  63.,  64.,  65.,\n",
       "         66.,  67.,  68.,  69.,  70.,  71.,  72.,  73.,  74.,  75.,  76.,\n",
       "         77.,  78.,  79.,  80.,  81.,  82.,  83.,  84.,  85.,  86.,  87.,\n",
       "         88.,  89.,  90.,  91.,  92.,  93.,  94.,  95.,  96.,  97.,  98.,\n",
       "         99., 100., 101., 102., 103., 104., 105., 106., 107., 108., 109.,\n",
       "        110., 111., 112., 113., 114., 115., 116., 117., 118., 119., 120.,\n",
       "        121., 122., 123., 124., 125., 126., 127., 128., 129., 130., 131.,\n",
       "        132., 133., 134., 135., 136., 137., 138., 139., 140., 141., 142.,\n",
       "        143., 144., 145., 146., 147., 148., 149., 150., 151., 152., 153.,\n",
       "        154., 155., 156., 157., 158., 159., 160., 161., 162., 163., 164.,\n",
       "        165., 166., 167., 168., 169., 170., 171., 172., 173., 174., 175.,\n",
       "        176., 177., 178., 179., 180., 181., 182., 183., 184., 185., 186.,\n",
       "        187., 188., 189., 190., 191., 192., 193., 194., 195., 196., 197.,\n",
       "        198., 199., 200., 201., 202., 203., 204., 205., 206., 207., 208.,\n",
       "        209., 210., 211., 212., 213., 214., 215., 216., 217., 218., 219.,\n",
       "        220., 221., 222., 223., 224., 225., 226., 227., 228., 229., 230.,\n",
       "        231., 232., 233., 234., 235., 236., 237., 238., 239., 240., 241.,\n",
       "        242., 243., 244., 245., 246., 247., 248., 249., 250., 251., 252.,\n",
       "        253., 254., 255., 256., 257., 258., 259., 260., 261., 262., 263.,\n",
       "        264., 265., 266., 267., 268., 269., 270., 271., 272., 273., 274.,\n",
       "        275., 276., 277., 278., 279., 280., 281., 282., 283., 284., 285.,\n",
       "        286., 287., 288., 289., 290., 291., 292., 293., 294., 295., 296.,\n",
       "        297., 298., 299., 300., 301., 302., 303., 304., 305., 306., 307.,\n",
       "        308., 309., 310., 311., 312., 313., 314., 315., 316., 317., 318.,\n",
       "        319., 320., 321., 322., 323., 324., 325., 326., 327., 328., 329.,\n",
       "        330., 331., 332., 333., 334., 335., 336., 337., 338., 339., 340.,\n",
       "        341., 342., 343., 344., 345., 346., 347., 348., 349., 350., 351.,\n",
       "        352., 353., 354., 355., 356., 357., 358., 359., 360., 361., 362.,\n",
       "        363., 364., 365., 366., 367., 368., 369., 370., 371., 372., 373.,\n",
       "        374., 375., 376., 377., 378., 379., 380., 381., 382., 383., 384.,\n",
       "        385., 386., 387., 388., 389., 390., 391., 392., 393., 394., 395.]))"
      ]
     },
     "execution_count": 19,
     "metadata": {},
     "output_type": "execute_result"
    }
   ],
   "source": [
    "outHist = np.histogram(voutSamples, bins = np.linspace(0, 395, 396))\n",
    "outHist"
   ]
  },
  {
   "cell_type": "code",
   "execution_count": 31,
   "id": "21bd7c84",
   "metadata": {},
   "outputs": [
    {
     "data": {
      "text/plain": [
       "395"
      ]
     },
     "execution_count": 31,
     "metadata": {},
     "output_type": "execute_result"
    }
   ],
   "source": [
    "ref = brn[:-5]*nSamples/79369.\n",
    "len(ref)"
   ]
  },
  {
   "cell_type": "code",
   "execution_count": 36,
   "id": "ff9bcb64",
   "metadata": {},
   "outputs": [
    {
     "data": {
      "text/plain": [
       "395"
      ]
     },
     "execution_count": 36,
     "metadata": {},
     "output_type": "execute_result"
    }
   ],
   "source": [
    "len(outHist[0])"
   ]
  },
  {
   "cell_type": "code",
   "execution_count": 32,
   "id": "2af96973",
   "metadata": {},
   "outputs": [],
   "source": [
    "trim_bins = brn_bins[:-5]"
   ]
  },
  {
   "cell_type": "code",
   "execution_count": 38,
   "id": "945a6c3a",
   "metadata": {},
   "outputs": [
    {
     "data": {
      "image/png": "[encoded data removed]",
      "text/plain": [
       "<Figure size 400x300 with 1 Axes>"
      ]
     },
     "metadata": {},
     "output_type": "display_data"
    }
   ],
   "source": [
    "fig, ax = plt.subplots( figsize = (4, 3) )  \n",
    "\n",
    "ax.bar(brn_bins[:-6], (outHist[0]-ref)/ref, width = np.diff(brn_bins[:-5]), align = \"edge\")\n",
    "ax.set_xlabel( 'Neutron Kinetic Energy [MeV]', fontsize = 12 )\n",
    "ax.tick_params(axis = 'x', labelsize = 12)\n",
    "ax.tick_params(axis = 'y', labelsize = 12)\n",
    "ax.set_xlim( [0, 400])\n",
    "# ax.semilogy()\n",
    "ax.grid(':')"
   ]
  },
  {
   "cell_type": "markdown",
   "id": "5d617837",
   "metadata": {},
   "source": [
    "## Fill the output ROOT file"
   ]
  },
  {
   "cell_type": "code",
   "execution_count": 39,
   "id": "8f3d5bc7",
   "metadata": {},
   "outputs": [],
   "source": [
    "nPdg = 2112\n",
    "# unit: GeV\n",
    "nMass = 0.9395654205"
   ]
  },
  {
   "cell_type": "code",
   "execution_count": 41,
   "id": "bf8a087e",
   "metadata": {},
   "outputs": [
    {
     "data": {
      "text/plain": [
       "10"
      ]
     },
     "execution_count": 41,
     "metadata": {},
     "output_type": "execute_result"
    }
   ],
   "source": [
    "nEventPerFile = 10000\n",
    "nFiles = int(nSamples/nEventPerFile)\n",
    "nFiles"
   ]
  },
  {
   "cell_type": "code",
   "execution_count": null,
   "id": "45eacb13",
   "metadata": {},
   "outputs": [],
   "source": []
  }
 ],
 "metadata": {
  "kernelspec": {
   "display_name": "Python 3 (ipykernel)",
   "language": "python",
   "name": "python3"
  },
  "language_info": {
   "codemirror_mode": {
    "name": "ipython",
    "version": 3
   },
   "file_extension": ".py",
   "mimetype": "text/x-python",
   "name": "python",
   "nbconvert_exporter": "python",
   "pygments_lexer": "ipython3",
   "version": "3.11.5"
  }
 },
 "nbformat": 4,
 "nbformat_minor": 5
}
